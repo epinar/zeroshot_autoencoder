{
 "cells": [
  {
   "cell_type": "code",
   "execution_count": 2,
   "metadata": {},
   "outputs": [
    {
     "ename": "ModuleNotFoundError",
     "evalue": "No module named 'torch.nn'",
     "output_type": "error",
     "traceback": [
      "\u001b[0;31m---------------------------------------------------------------------------\u001b[0m",
      "\u001b[0;31mModuleNotFoundError\u001b[0m                       Traceback (most recent call last)",
      "\u001b[0;32m<ipython-input-2-2cc1a6145a50>\u001b[0m in \u001b[0;36m<module>\u001b[0;34m\u001b[0m\n\u001b[1;32m     11\u001b[0m \u001b[0;32mimport\u001b[0m \u001b[0mnumpy\u001b[0m \u001b[0;32mas\u001b[0m \u001b[0mnp\u001b[0m\u001b[0;34m\u001b[0m\u001b[0;34m\u001b[0m\u001b[0m\n\u001b[1;32m     12\u001b[0m \u001b[0;32mimport\u001b[0m \u001b[0mtorch\u001b[0m\u001b[0;34m\u001b[0m\u001b[0;34m\u001b[0m\u001b[0m\n\u001b[0;32m---> 13\u001b[0;31m \u001b[0;32mimport\u001b[0m \u001b[0mtorch\u001b[0m\u001b[0;34m.\u001b[0m\u001b[0mnn\u001b[0m \u001b[0;32mas\u001b[0m \u001b[0mnn\u001b[0m\u001b[0;34m\u001b[0m\u001b[0;34m\u001b[0m\u001b[0m\n\u001b[0m\u001b[1;32m     14\u001b[0m \u001b[0;32mimport\u001b[0m \u001b[0mfnmatch\u001b[0m\u001b[0;34m\u001b[0m\u001b[0;34m\u001b[0m\u001b[0m\n",
      "\u001b[0;31mModuleNotFoundError\u001b[0m: No module named 'torch.nn'"
     ]
    }
   ],
   "source": [
    "import pickle\n",
    "import numpy as np\n",
    "from math import *\n",
    "\n",
    "from scipy import spatial\n",
    "import scipy.io as scio \n",
    "import os\n",
    "\n",
    "import argparse\n",
    "\n",
    "import numpy as np\n",
    "import torch\n",
    "import torch.nn as nn\n",
    "import fnmatch"
   ]
  },
  {
   "cell_type": "code",
   "execution_count": 2,
   "metadata": {},
   "outputs": [],
   "source": [
    "a=scio.loadmat(os.getcwd()+'/'+\"awa_demo_data.mat\")"
   ]
  },
  {
   "cell_type": "code",
   "execution_count": 3,
   "metadata": {},
   "outputs": [],
   "source": [
    "X_tr=a['X_tr']\n",
    "X_te=a['X_te']\n",
    "X_tr=NormalizeFea(X_tr.T,2).T"
   ]
  },
  {
   "cell_type": "code",
   "execution_count": 4,
   "metadata": {},
   "outputs": [
    {
     "data": {
      "text/plain": [
       "((24295, 1024), (6180, 1024))"
      ]
     },
     "execution_count": 4,
     "metadata": {},
     "output_type": "execute_result"
    }
   ],
   "source": [
    "X_tr.shape, X_te.shape"
   ]
  },
  {
   "cell_type": "code",
   "execution_count": 5,
   "metadata": {},
   "outputs": [],
   "source": [
    "S_tr=a['S_tr']\n",
    "S_te_pro=a['S_te_pro']\n",
    "S_te_gt=a['S_te_gt']\n",
    "\n",
    "Y_te=a['param']['test_labels'][0][0]\n",
    "te_cl_id=a['param']['testclasses_id'][0][0]"
   ]
  },
  {
   "cell_type": "code",
   "execution_count": 6,
   "metadata": {},
   "outputs": [
    {
     "data": {
      "text/plain": [
       "((24295, 85), (10, 85), (10, 85))"
      ]
     },
     "execution_count": 6,
     "metadata": {},
     "output_type": "execute_result"
    }
   ],
   "source": [
    "S_tr.shape, S_te_pro.shape, S_te_gt.shape"
   ]
  },
  {
   "cell_type": "code",
   "execution_count": 7,
   "metadata": {},
   "outputs": [
    {
     "data": {
      "text/plain": [
       "(array([47.51,  9.93,  0.  , 69.1 , 13.05,  7.14,  0.  ,  2.5 ,  0.62,\n",
       "         0.  ,  0.  , 81.98,  0.46, 20.96, 28.29, 38.26,  6.56, 45.75,\n",
       "         0.  , 77.77,  0.  ,  9.69,  9.31, 65.34,  2.5 , 54.26, 52.62,\n",
       "        24.34, 11.84,  0.  ,  0.  , 14.44,  0.  , 49.83,  0.  , 10.31,\n",
       "         3.75,  0.  , 59.72, 56.94, 15.42, 41.19, 17.27, 41.83, 66.82,\n",
       "        44.53, 77.8 ,  7.5 ,  9.81,  0.  , 75.86,  2.5 ,  8.31,  0.  ,\n",
       "        67.15, 22.28, 33.53, 11.94,  7.5 , 15.36,  0.  ,  8.75, 52.98,\n",
       "        74.34,  1.25,  8.75,  5.  , 65.09, 15.58, 63.58,  0.  , 91.98,\n",
       "        27.35,  0.  , 28.7 ,  1.25, 81.36, 10.  , 23.1 , 29.64, 84.36,\n",
       "        74.51,  8.75, 41.93, 36.62]),\n",
       " array([47.51,  9.93,  0.  , 69.1 , 13.05,  7.14,  0.  ,  2.5 ,  0.62,\n",
       "         0.  ,  0.  , 81.98,  0.46, 20.96, 28.29, 38.26,  6.56, 45.75,\n",
       "         0.  , 77.77,  0.  ,  9.69,  9.31, 65.34,  2.5 , 54.26, 52.62,\n",
       "        24.34, 11.84,  0.  ,  0.  , 14.44,  0.  , 49.83,  0.  , 10.31,\n",
       "         3.75,  0.  , 59.72, 56.94, 15.42, 41.19, 17.27, 41.83, 66.82,\n",
       "        44.53, 77.8 ,  7.5 ,  9.81,  0.  , 75.86,  2.5 ,  8.31,  0.  ,\n",
       "        67.15, 22.28, 33.53, 11.94,  7.5 , 15.36,  0.  ,  8.75, 52.98,\n",
       "        74.34,  1.25,  8.75,  5.  , 65.09, 15.58, 63.58,  0.  , 91.98,\n",
       "        27.35,  0.  , 28.7 ,  1.25, 81.36, 10.  , 23.1 , 29.64, 84.36,\n",
       "        74.51,  8.75, 41.93, 36.62]))"
      ]
     },
     "execution_count": 7,
     "metadata": {},
     "output_type": "execute_result"
    }
   ],
   "source": [
    "S_te_pro[0], S_te_gt[0]"
   ]
  },
  {
   "cell_type": "code",
   "execution_count": 8,
   "metadata": {},
   "outputs": [
    {
     "data": {
      "text/plain": [
       "((6180, 1), (10, 1))"
      ]
     },
     "execution_count": 8,
     "metadata": {},
     "output_type": "execute_result"
    }
   ],
   "source": [
    "Y_te.shape, te_cl_id.shape"
   ]
  },
  {
   "cell_type": "code",
   "execution_count": 9,
   "metadata": {},
   "outputs": [
    {
     "data": {
      "text/plain": [
       "array([[25],\n",
       "       [39],\n",
       "       [15],\n",
       "       [ 6],\n",
       "       [42],\n",
       "       [14],\n",
       "       [18],\n",
       "       [48],\n",
       "       [34],\n",
       "       [24]], dtype=uint8)"
      ]
     },
     "execution_count": 9,
     "metadata": {},
     "output_type": "execute_result"
    }
   ],
   "source": [
    "te_cl_id"
   ]
  },
  {
   "cell_type": "code",
   "execution_count": 10,
   "metadata": {},
   "outputs": [],
   "source": [
    "lamb  = 500000;\n",
    "\n",
    "W=SAE(X_tr.T,S_tr.T,lamb).T"
   ]
  },
  {
   "cell_type": "code",
   "execution_count": 11,
   "metadata": {},
   "outputs": [
    {
     "name": "stdout",
     "output_type": "stream",
     "text": [
      "0.8239482200647249\n"
     ]
    }
   ],
   "source": [
    "S_te_est = X_te .dot(NormalizeFea(W,2))\n",
    "dist     =  1 - spatial.distance.cdist(S_te_est,S_te_gt,'cosine')\n",
    "#dist     = NormalizeFea(dist,0)\n",
    "#[F --> S], projecting data from feature space to semantic space \n",
    "HITK=1\n",
    "Y_hit5 =np. zeros((dist.shape[0],HITK))\n",
    "for i in range(dist.shape[0]):\n",
    "    I=np.argsort(dist[i])[::-1]\n",
    "    Y_hit5[i,:]=np.squeeze(te_cl_id[I[0:HITK]])\n",
    "\n",
    "n=0\n",
    "for i in range(dist.shape[0]):\n",
    "    if Y_te[i] in Y_hit5[i,:]:\n",
    "        n=n+1\n",
    "\n",
    "zsl_accuracy = n/dist.shape[0]\n",
    "print(zsl_accuracy)   "
   ]
  },
  {
   "cell_type": "code",
   "execution_count": 12,
   "metadata": {},
   "outputs": [
    {
     "name": "stdout",
     "output_type": "stream",
     "text": [
      "0.8577669902912621\n"
     ]
    }
   ],
   "source": [
    "#[S --> F], projecting from semantic to visual space \n",
    "#dist    =  1 - zscore(pdist2(X_te, (S_te_pro * W'), 'cosine')) ;\n",
    "S_te_pro=NormalizeFea(S_te_pro.T,2).T\n",
    "dist     =  1 - spatial.distance.cdist(X_te,S_te_pro.dot(W.T),'cosine')\n",
    "\n",
    "HITK=1\n",
    "Y_hit5 =np. zeros((dist.shape[0],HITK))\n",
    "for i in range(dist.shape[0]):\n",
    "    I=np.argsort(dist[i])[::-1]\n",
    "    Y_hit5[i,:]=te_cl_id[I[0:HITK]]\n",
    "\n",
    "n=0\n",
    "for i in range(dist.shape[0]):\n",
    "    if Y_te[i] in Y_hit5[i,:]:\n",
    "        n=n+1\n",
    "\n",
    "zsl_accuracy = n/dist.shape[0]\n",
    "print(zsl_accuracy) "
   ]
  },
  {
   "cell_type": "code",
   "execution_count": 13,
   "metadata": {},
   "outputs": [
    {
     "data": {
      "text/plain": [
       "((6180, 1024), (10, 1024))"
      ]
     },
     "execution_count": 13,
     "metadata": {},
     "output_type": "execute_result"
    }
   ],
   "source": [
    "X_te.shape, S_te_pro.dot(W.T).shape"
   ]
  },
  {
   "cell_type": "code",
   "execution_count": 60,
   "metadata": {},
   "outputs": [],
   "source": [
    "import torch\n",
    "import torch.nn as nn\n",
    "from torch.autograd import Variable\n",
    "from torch.utils.data import DataLoader, Dataset\n",
    "\n",
    "class MultimodalDataset(Dataset):\n",
    "\n",
    "    def __init__(self, vids, sem, transform=None):\n",
    "        self.vids = vids\n",
    "        self.caps = sem\n",
    "\n",
    "    def __len__(self):\n",
    "        return len(self.vids)\n",
    "\n",
    "    def __getitem__(self, idx):\n",
    "        vid_feat = self.vids[idx]\n",
    "        word_feat = self.caps[idx]\n",
    "        \n",
    "        #word_feat = np.expand_dims(word_feat, axis=0)\n",
    "        #label = vid_id.split(\"_\")[0]\n",
    "        \n",
    "        '''\n",
    "        \n",
    "        neg_sample = False\n",
    "        n_vid_id = vid_id\n",
    "        n_label = label\n",
    "        while not neg_sample:\n",
    "            rand = randint(0, len(self.train_ids)-1)\n",
    "            if rand == idx:\n",
    "                break\n",
    "            n_vid_id = self.train_ids[rand]\n",
    "            n_label = n_vid_id.split(\"_\")[0]\n",
    "            if n_label is label:\n",
    "                break\n",
    "            neg_sample=True\n",
    "        \n",
    "        n_vid_feat = self.vids[n_vid_id]\n",
    "        n_word_feat = self.caps[n_vid_id.split('_')[0]]\n",
    "        n_word_feat = np.expand_dims(n_word_feat, axis=0)\n",
    "        \n",
    "        sample = {'vid_feat': vid_feat, 'word_feat': word_feat, 'label':label, \n",
    "                  'n_vid_feat': n_vid_feat, 'n_word_feat':n_word_feat, 'n_label':n_label }\n",
    "        \n",
    "        '''\n",
    "        \n",
    "        sample = {'vid_feat': vid_feat, 'word_feat': word_feat}\n",
    "        return sample\n",
    "\n",
    "    \n",
    "batch_size=1024\n",
    "train_data = MultimodalDataset(vids=X_tr[:22000], sem=S_tr[:22000])\n",
    "val_data = MultimodalDataset(vids=X_tr[22000:25000], sem=S_tr[22000:25000])\n",
    "#test_data = MultimodalDataset(test_ids, vids=vid_features, words=word_dict)\n",
    "dataloaders_dict = {\n",
    "    'train' : DataLoader(dataset=train_data, batch_size=batch_size, shuffle=True),\n",
    "    'val': DataLoader(dataset=val_data, batch_size=batch_size, shuffle=True)\n",
    "    #'test': DataLoader(dataset=test_data, batch_size=1, shuffle=True)\n",
    "}"
   ]
  },
  {
   "cell_type": "code",
   "execution_count": 27,
   "metadata": {},
   "outputs": [],
   "source": [
    "os.environ['CUDA_DEVICE_ORDER']=\"PCI_BUS_ID\"\n",
    "#torch.cuda.set_device(3)\n",
    "#torch.cuda.current_device()\n",
    "device = torch.device('cuda:3')"
   ]
  },
  {
   "cell_type": "code",
   "execution_count": 61,
   "metadata": {},
   "outputs": [],
   "source": [
    "from AE import *"
   ]
  },
  {
   "cell_type": "code",
   "execution_count": 89,
   "metadata": {},
   "outputs": [
    {
     "name": "stdout",
     "output_type": "stream",
     "text": [
      "Video autoencoder::: \n",
      "Word autoencoder::: \n"
     ]
    }
   ],
   "source": [
    "C = 350 # mid bottleneck for video\n",
    "N = 85 # representation dim\n",
    "V = 1024 # feature vector size for vgg\n",
    "L = 85 # mid bottleneck for text\n",
    "D = 85 # gru feature size \n",
    "\n",
    "learning_rate = 1e-3\n",
    "weight_decay = 1e-5\n",
    "drop_out = 0.5\n",
    "\n",
    "print(\"Video autoencoder::: \")\n",
    "enc_vid = VideoEncoder(C=C, N=N, num_feats=V, drop_out=drop_out)\n",
    "dec_vid = VideoDecoder(C=C, N=N, num_feats=V, drop_out=drop_out)\n",
    "\n",
    "print(\"Word autoencoder::: \")\n",
    "enc_word = WordEncoder(L=L, N=N, num_feats=D, drop_out=drop_out)\n",
    "dec_word = WordDecoder(L=L, N=N, num_feats=D, drop_out=drop_out)\n",
    "\n",
    "optim1 = torch.optim.Adam(enc_vid.parameters(), lr=learning_rate, weight_decay = weight_decay)\n",
    "optim2 = torch.optim.Adam(dec_vid.parameters(), lr=learning_rate, weight_decay = weight_decay)\n",
    "optim3 = torch.optim.Adam(enc_word.parameters(), lr=learning_rate, weight_decay = weight_decay)\n",
    "optim4 = torch.optim.Adam(dec_word.parameters(), lr=learning_rate, weight_decay = weight_decay)\n",
    "criterion = nn.MSELoss()"
   ]
  },
  {
   "cell_type": "code",
   "execution_count": 19,
   "metadata": {},
   "outputs": [],
   "source": [
    "device = torch.device('cpu:0')"
   ]
  },
  {
   "cell_type": "code",
   "execution_count": null,
   "metadata": {},
   "outputs": [],
   "source": []
  },
  {
   "cell_type": "code",
   "execution_count": 90,
   "metadata": {},
   "outputs": [],
   "source": [
    "enc_vid = enc_vid.to(device)\n",
    "dec_vid = dec_vid.to(device)\n",
    "enc_word = enc_word.to(device)\n",
    "dec_word = dec_word.to(device)\n",
    "\n",
    "#enc_vid = nn.DataParallel(enc_vid)\n",
    "#dec_vid = nn.DataParallel(dec_vid)\n",
    "#enc_word = nn.DataParallel(enc_word)\n",
    "#dec_word = nn.DataParallel(dec_word)"
   ]
  },
  {
   "cell_type": "code",
   "execution_count": 64,
   "metadata": {},
   "outputs": [],
   "source": [
    "best_enc_vid = VideoEncoder(C=C, N=N, num_feats=V, drop_out=drop_out)\n",
    "best_dec_vid = VideoDecoder(C=C, N=N, num_feats=V, drop_out=drop_out)\n",
    "best_enc_word = WordEncoder(L=L, N=N, num_feats=D, drop_out=drop_out)\n",
    "best_dec_word = WordDecoder(L=L, N=N, num_feats=D, drop_out=drop_out)"
   ]
  },
  {
   "cell_type": "code",
   "execution_count": 91,
   "metadata": {},
   "outputs": [
    {
     "name": "stdout",
     "output_type": "stream",
     "text": [
      "epoch [1/150], epoch_loss:25782.83886719, l_recons:1488.97463989, l_joint:204.93194580, l_rank:0.00000000, l_cross:2429.38641357\n",
      "epoch [26/150], epoch_loss:12737.53710938, l_recons:1154.10391235, l_joint:1.10089716, l_rank:0.00000000, l_cross:1158.34329224\n",
      "epoch [51/150], epoch_loss:11613.81250000, l_recons:999.36926270, l_joint:1.60848197, l_rank:0.00000000, l_cross:1061.44430542\n",
      "epoch [76/150], epoch_loss:8109.44775391, l_recons:639.24613953, l_joint:2.40672410, l_rank:0.00000000, l_cross:747.02014160\n",
      "epoch [101/150], epoch_loss:8148.28222656, l_recons:602.25328064, l_joint:3.53371632, l_rank:0.00000000, l_cross:754.60290527\n",
      "epoch [126/150], epoch_loss:8025.26782227, l_recons:593.07641602, l_joint:5.51570642, l_rank:0.00000000, l_cross:743.21913147\n",
      "Training complete in 3m 2s\n",
      "Best val Acc: 7682.438232\n"
     ]
    }
   ],
   "source": [
    "import time\n",
    "import copy\n",
    "\n",
    "since = time.time()\n",
    "\n",
    "train_acc_history = []\n",
    "val_acc_history = []\n",
    "\n",
    "best_enc_vid = VideoEncoder(C=C, N=N, num_feats=V, drop_out=drop_out)\n",
    "best_dec_vid = VideoDecoder(C=C, N=N, num_feats=V, drop_out=drop_out)\n",
    "best_enc_word = WordEncoder(L=L, N=N, num_feats=D, drop_out=drop_out)\n",
    "best_dec_word = WordDecoder(L=L, N=N, num_feats=D, drop_out=drop_out)\n",
    "\n",
    "\n",
    "best_loss = 1000000.0\n",
    "\n",
    "num_epochs=150\n",
    "\n",
    "for epoch in range(num_epochs):\n",
    "\n",
    "    for phase in ['train', 'val']:\n",
    "        if phase == 'train':\n",
    "            # Set model to training mode\n",
    "            enc_vid.train()\n",
    "            dec_vid.train()\n",
    "            enc_word.train()\n",
    "            dec_word.train()\n",
    "        else:\n",
    "            enc_vid.eval()\n",
    "            dec_vid.eval()\n",
    "            enc_word.eval()\n",
    "            dec_word.eval()\n",
    "            \n",
    "        running_loss = 0.0\n",
    "        l_recons, l_joint, l_cross = 0.0, 0.0, 0.0\n",
    "        running_l_recons, running_l_joint, running_l_cross = 0.0, 0.0, 0.0\n",
    "        running_l_rank = 0.0\n",
    "        optim1.zero_grad()\n",
    "        optim2.zero_grad()\n",
    "        optim3.zero_grad()\n",
    "        optim4.zero_grad()\n",
    "        \n",
    "        for data in dataloaders_dict[phase]:\n",
    "            \n",
    "            video = data[\"vid_feat\"].float().to(device)\n",
    "            word = data[\"word_feat\"].float().to(device)\n",
    "            \n",
    "            #n_video = data[\"n_vid_feat\"].float().to(device)\n",
    "            #n_word = data[\"n_word_feat\"].float().to(device)\n",
    "\n",
    "            with torch.set_grad_enabled(phase == 'train'):\n",
    "                try:\n",
    "                    mid_video = enc_vid(video)\n",
    "                except RuntimeError as err:\n",
    "                    print(video.shape)\n",
    "                    print(\"mid video cannot create: \", err)\n",
    "                    break\n",
    "                out_video = dec_vid(mid_video)\n",
    "                \n",
    "                loss1 = criterion(out_video, video)\n",
    "\n",
    "                mid_word = enc_word(word)\n",
    "                out_word = dec_word(mid_word)\n",
    "\n",
    "                \n",
    "                loss2 = criterion(out_word, word)\n",
    "\n",
    "                l_recons = loss1+loss2\n",
    "                \n",
    "                '''\n",
    "                cos = nn.CosineSimilarity(dim=2, eps=1e-6)\n",
    "                \n",
    "                n_mid_word = enc_word(n_word)\n",
    "                \n",
    "                try:\n",
    "                    sim1 = cos(mid_video, mid_word)\n",
    "                    sim2 = cos(mid_video, n_mid_word)\n",
    "                except:\n",
    "                    break\n",
    "                \n",
    "                marg_loss = torch.nn.MarginRankingLoss(margin=0.2)\n",
    "                target = torch.ones(len(sim1)).to(device)\n",
    "                #print(\"mid word: \", mid_video.shape)\n",
    "                #print(\"sim1: \", sim1.shape, \" sim2: \", sim2.shape)\n",
    "                l_rank_joint = marg_loss(sim1, sim2, target)\n",
    "                '''\n",
    "                \n",
    "                l_joint = criterion(mid_video, mid_word)\n",
    "\n",
    "                cross_words = dec_word(mid_video)\n",
    "                cross_video = dec_vid(mid_video)\n",
    "                l_cross = criterion(cross_words, word) + criterion(cross_video, video)\n",
    "\n",
    "                alpha1, alpha2, alpha3 = 1, 0, 10\n",
    "                \n",
    "                loss = alpha1*l_recons + alpha2*l_joint + alpha3*l_cross\n",
    "                \n",
    "                running_loss += loss.item()\n",
    "                running_l_recons += l_recons.item()\n",
    "                running_l_joint += l_joint.item()\n",
    "                running_l_cross += l_cross.item()\n",
    "                #running_l_rank += l_rank_joint.item()\n",
    "\n",
    "                if phase == 'train':\n",
    "                    optim1.zero_grad()\n",
    "                    optim2.zero_grad()\n",
    "                    optim3.zero_grad()\n",
    "                    optim4.zero_grad()\n",
    "                    loss.backward()\n",
    "                    optim1.step()\n",
    "                    optim2.step()\n",
    "                    optim3.step()\n",
    "                    optim4.step()\n",
    "            \n",
    "        epoch_loss = running_loss #/ len(dataloaders_dict[phase].dataset)\n",
    "        \n",
    "        if phase == 'train':\n",
    "            train_acc_history.append(epoch_loss)\n",
    "        \n",
    "        #loss = running_loss\n",
    "        if phase == 'val':\n",
    "            if epoch_loss < best_loss:\n",
    "                best_loss = epoch_loss\n",
    "                best_enc_vid = copy.deepcopy(enc_vid)\n",
    "                best_dec_vid = copy.deepcopy(dec_vid)\n",
    "                best_enc_word = copy.deepcopy(enc_word)\n",
    "                best_dec_word = copy.deepcopy(dec_word)\n",
    "            val_acc_history.append(epoch_loss)\n",
    "            if epoch%25 ==0:\n",
    "                print('epoch [{}/{}], epoch_loss:{:.8f}, l_recons:{:.8f}, l_joint:{:.8f}, l_rank:{:.8f}, l_cross:{:.8f}'\n",
    "                      .format(epoch + 1, num_epochs, epoch_loss, running_l_recons, running_l_joint, 0, running_l_cross))\n",
    "        \n",
    "time_elapsed = time.time() - since\n",
    "print('Training complete in {:.0f}m {:.0f}s'.format(time_elapsed // 60, time_elapsed % 60))\n",
    "print('Best val Acc: {:4f}'.format(best_loss))\n",
    "\n",
    "torch.save(enc_vid.state_dict(), './video_encoder.pth')\n",
    "torch.save(dec_vid.state_dict(), './video_decoder.pth')\n",
    "torch.save(enc_word.state_dict(), './word_encoder.pth')\n",
    "torch.save(enc_word.state_dict(), './word_decoder.pth')"
   ]
  },
  {
   "cell_type": "code",
   "execution_count": 92,
   "metadata": {},
   "outputs": [
    {
     "data": {
      "image/png": "[encoded data removed]",
      "text/plain": [
       "<Figure size 432x288 with 1 Axes>"
      ]
     },
     "metadata": {
      "needs_background": "light"
     },
     "output_type": "display_data"
    }
   ],
   "source": [
    "import matplotlib.pyplot as plt\n",
    "\n",
    "plt.plot(train_acc_history)\n",
    "plt.show()"
   ]
  },
  {
   "cell_type": "code",
   "execution_count": 93,
   "metadata": {},
   "outputs": [
    {
     "data": {
      "image/png": "[encoded data removed]",
      "text/plain": [
       "<Figure size 432x288 with 1 Axes>"
      ]
     },
     "metadata": {
      "needs_background": "light"
     },
     "output_type": "display_data"
    }
   ],
   "source": [
    "plt.plot(val_acc_history)\n",
    "plt.show()"
   ]
  },
  {
   "cell_type": "code",
   "execution_count": 68,
   "metadata": {},
   "outputs": [],
   "source": [
    "best_enc_vid.eval()\n",
    "best_dec_vid.eval()\n",
    "best_enc_word.eval()\n",
    "best_dec_word.eval()\n",
    "\n",
    "enc_vid.eval()\n",
    "dec_vid.eval()\n",
    "enc_word.eval()\n",
    "dec_word.eval()\n",
    "\n",
    "torch.set_grad_enabled(False)\n",
    "\n",
    "unseen_loss=[]\n",
    "S_te_est = []\n",
    "\n",
    "for vis_emb in X_te:\n",
    "    var = torch.from_numpy(vis_emb).float().to(device)\n",
    "    mid_video = best_enc_vid(var)\n",
    "    out_word = best_dec_word(mid_video)\n",
    "    #print(mid_video)\n",
    "    sample_word = out_word.cpu().detach().numpy()\n",
    "    sample_word = np.squeeze(np.transpose(sample_word))\n",
    "    S_te_est.append(sample_word)"
   ]
  },
  {
   "cell_type": "code",
   "execution_count": 69,
   "metadata": {},
   "outputs": [
    {
     "data": {
      "text/plain": [
       "6180"
      ]
     },
     "execution_count": 69,
     "metadata": {},
     "output_type": "execute_result"
    }
   ],
   "source": [
    "len(S_te_est)"
   ]
  },
  {
   "cell_type": "code",
   "execution_count": 49,
   "metadata": {},
   "outputs": [
    {
     "ename": "TypeError",
     "evalue": "unhashable type: 'numpy.ndarray'",
     "output_type": "error",
     "traceback": [
      "\u001b[0;31m---------------------------------------------------------------------------\u001b[0m",
      "\u001b[0;31mTypeError\u001b[0m                                 Traceback (most recent call last)",
      "\u001b[0;32m<ipython-input-49-8f4fdad2042f>\u001b[0m in \u001b[0;36m<module>\u001b[0;34m\u001b[0m\n\u001b[0;32m----> 1\u001b[0;31m \u001b[0my_set\u001b[0m \u001b[0;34m=\u001b[0m \u001b[0mset\u001b[0m\u001b[0;34m(\u001b[0m\u001b[0mnp\u001b[0m\u001b[0;34m.\u001b[0m\u001b[0masarray\u001b[0m\u001b[0;34m(\u001b[0m\u001b[0mY_te\u001b[0m\u001b[0;34m)\u001b[0m\u001b[0;34m)\u001b[0m\u001b[0;34m\u001b[0m\u001b[0;34m\u001b[0m\u001b[0m\n\u001b[0m",
      "\u001b[0;31mTypeError\u001b[0m: unhashable type: 'numpy.ndarray'"
     ]
    }
   ],
   "source": [
    "y_set = set(np.asarray(Y_te))"
   ]
  },
  {
   "cell_type": "code",
   "execution_count": 70,
   "metadata": {},
   "outputs": [
    {
     "name": "stdout",
     "output_type": "stream",
     "text": [
      "0.3477346278317152\n"
     ]
    }
   ],
   "source": [
    "dist     =  1 - spatial.distance.cdist(S_te_est,S_te_gt,'cosine')\n",
    "HITK=1\n",
    "Y_hit5 =np. zeros((dist.shape[0],HITK))\n",
    "for i in range(dist.shape[0]):\n",
    "    I=np.argsort(dist[i])[::-1]\n",
    "    Y_hit5[i,:]=np.squeeze(te_cl_id[I[0:HITK]])\n",
    "\n",
    "n=0\n",
    "for i in range(dist.shape[0]):\n",
    "    #print(Y_hit5[i,:])\n",
    "    if Y_te[i] in Y_hit5[i,:]:\n",
    "        n=n+1\n",
    "\n",
    "zsl_accuracy = n/dist.shape[0]\n",
    "print(zsl_accuracy)  "
   ]
  },
  {
   "cell_type": "code",
   "execution_count": 71,
   "metadata": {},
   "outputs": [],
   "source": [
    "set(Y_te.flatten()), set(Y_hit5.flatten())\n",
    "conf = {}\n",
    "for y in set(Y_te.flatten()):\n",
    "    for y_h in set(Y_hit5.flatten()):\n",
    "        conf[(y, y_h)] = 0"
   ]
  },
  {
   "cell_type": "code",
   "execution_count": 72,
   "metadata": {},
   "outputs": [],
   "source": [
    "for i in range(dist.shape[0]):\n",
    "    #print(Y_te[i], Y_hit5[i,:])\n",
    "    conf[(Y_te[i][0], Y_hit5[i,:][0])] += 1"
   ]
  },
  {
   "cell_type": "code",
   "execution_count": 73,
   "metadata": {},
   "outputs": [],
   "source": [
    "from sklearn.metrics import confusion_matrix\n",
    "cm = confusion_matrix(Y_te, Y_hit5)"
   ]
  },
  {
   "cell_type": "code",
   "execution_count": 74,
   "metadata": {},
   "outputs": [],
   "source": [
    "def precision(label, confusion_matrix):\n",
    "    col = confusion_matrix[:, label]\n",
    "    return confusion_matrix[label, label] / col.sum()\n",
    "    \n",
    "def recall(label, confusion_matrix):\n",
    "    row = confusion_matrix[label, :]\n",
    "    return confusion_matrix[label, label] / row.sum()\n",
    "def precision_macro_average(confusion_matrix):\n",
    "    rows, columns = confusion_matrix.shape\n",
    "    sum_of_precisions = 0\n",
    "    for label in range(rows):\n",
    "        sum_of_precisions += precision(label, confusion_matrix)\n",
    "    return sum_of_precisions / rows\n",
    "def recall_macro_average(confusion_matrix):\n",
    "    rows, columns = confusion_matrix.shape\n",
    "    sum_of_recalls = 0\n",
    "    for label in range(columns):\n",
    "        sum_of_recalls += recall(label, confusion_matrix)\n",
    "    return sum_of_recalls / columns\n",
    "def accuracy(confusion_matrix):\n",
    "    diagonal_sum = confusion_matrix.trace()\n",
    "    sum_of_all_elements = confusion_matrix.sum()\n",
    "    return diagonal_sum / sum_of_all_elements "
   ]
  },
  {
   "cell_type": "code",
   "execution_count": 75,
   "metadata": {},
   "outputs": [
    {
     "name": "stdout",
     "output_type": "stream",
     "text": [
      "label precision recall\n",
      "    0     0.461  0.789\n",
      "    1     0.775  0.548\n",
      "    2     0.125  0.564\n",
      "    3     0.923  0.906\n",
      "    4     0.595  0.049\n",
      "    5     0.111  0.001\n",
      "    6     0.065  0.030\n",
      "    7     0.000  0.000\n",
      "    8     0.210  0.492\n",
      "    9     0.000  0.000\n",
      "precision total: 0.32642822838042707\n",
      "recall total: 0.3379495113619734\n",
      "accuracy: 0.3477346278317152\n"
     ]
    }
   ],
   "source": [
    "cm2 = confusion_matrix(Y_te, Y_hit5)\n",
    "print(\"label precision recall\")\n",
    "for label in range(10):\n",
    "    print(f\"{label:5d} {precision(label, cm2):9.3f} {recall(label, cm2):6.3f}\")\n",
    "    \n",
    "print(\"precision total:\", precision_macro_average(cm2))\n",
    "print(\"recall total:\", recall_macro_average(cm2))\n",
    "print(\"accuracy:\", accuracy(cm2))"
   ]
  },
  {
   "cell_type": "code",
   "execution_count": 76,
   "metadata": {},
   "outputs": [
    {
     "name": "stdout",
     "output_type": "stream",
     "text": [
      "label precision recall\n",
      "    0     0.461  0.789\n",
      "    1     0.775  0.548\n",
      "    2     0.125  0.564\n",
      "    3     0.923  0.906\n",
      "    4     0.595  0.049\n",
      "    5     0.111  0.001\n",
      "    6     0.065  0.030\n",
      "    7     0.000  0.000\n",
      "    8     0.210  0.492\n",
      "    9     0.000  0.000\n",
      "precision total: 0.32642822838042707\n",
      "recall total: 0.3379495113619734\n"
     ]
    }
   ],
   "source": [
    "print(\"label precision recall\")\n",
    "for label in range(10):\n",
    "    print(f\"{label:5d} {precision(label, cm):9.3f} {recall(label, cm):6.3f}\")\n",
    "    \n",
    "print(\"precision total:\", precision_macro_average(cm))\n",
    "print(\"recall total:\", recall_macro_average(cm))"
   ]
  },
  {
   "cell_type": "code",
   "execution_count": 77,
   "metadata": {},
   "outputs": [
    {
     "data": {
      "text/plain": [
       "0.3477346278317152"
      ]
     },
     "execution_count": 77,
     "metadata": {},
     "output_type": "execute_result"
    }
   ],
   "source": [
    "accuracy(cm)"
   ]
  },
  {
   "cell_type": "code",
   "execution_count": 85,
   "metadata": {},
   "outputs": [],
   "source": [
    "vis_est = []\n",
    "\n",
    "for word_emb in S_te_gt:\n",
    "    var = torch.from_numpy(word_emb).float().to(device)\n",
    "    mid_word = best_enc_word(var)\n",
    "    out_video = best_dec_vid(mid_word)\n",
    "    sample_video = out_video.cpu().detach().numpy()\n",
    "    sample_video = np.squeeze(np.transpose(sample_video))\n",
    "    vis_est.append(sample_video)"
   ]
  },
  {
   "cell_type": "code",
   "execution_count": 86,
   "metadata": {},
   "outputs": [
    {
     "data": {
      "text/plain": [
       "1024"
      ]
     },
     "execution_count": 86,
     "metadata": {},
     "output_type": "execute_result"
    }
   ],
   "source": [
    "len(vis_est[0])"
   ]
  },
  {
   "cell_type": "code",
   "execution_count": 87,
   "metadata": {},
   "outputs": [
    {
     "data": {
      "text/plain": [
       "(6180, 10)"
      ]
     },
     "execution_count": 87,
     "metadata": {},
     "output_type": "execute_result"
    }
   ],
   "source": [
    "len(X_te), len(S_te_pro)"
   ]
  },
  {
   "cell_type": "code",
   "execution_count": 88,
   "metadata": {},
   "outputs": [
    {
     "name": "stdout",
     "output_type": "stream",
     "text": [
      "0.3574433656957929\n"
     ]
    }
   ],
   "source": [
    "S_te_pro=NormalizeFea(S_te_pro.T,2).T\n",
    "dist     =  1 - spatial.distance.cdist(X_te, vis_est,'cosine')\n",
    "\n",
    "HITK=1\n",
    "Y_hit5 =np. zeros((dist.shape[0],HITK))\n",
    "for i in range(dist.shape[0]):\n",
    "    I=np.argsort(dist[i])[::-1]\n",
    "    Y_hit5[i,:]=np.squeeze(te_cl_id[I[0:HITK]])\n",
    "\n",
    "n=0\n",
    "for i in range(dist.shape[0]):\n",
    "    if Y_te[i] in Y_hit5[i,:]:\n",
    "        n=n+1\n",
    "\n",
    "zsl_accuracy = n/dist.shape[0]\n",
    "print(zsl_accuracy) "
   ]
  },
  {
   "cell_type": "code",
   "execution_count": null,
   "metadata": {},
   "outputs": [],
   "source": []
  },
  {
   "cell_type": "code",
   "execution_count": 79,
   "metadata": {},
   "outputs": [],
   "source": [
    "import numpy as np\n",
    "import matplotlib.pyplot as plt\n",
    "\n",
    "from sklearn.cluster import KMeans\n",
    "from sklearn.datasets import make_blobs\n",
    "from sklearn.decomposition import PCA\n",
    "\n",
    "\n",
    "\n",
    "pca = PCA(n_components=n_digits).fit(S_te_est)"
   ]
  },
  {
   "cell_type": "code",
   "execution_count": 80,
   "metadata": {},
   "outputs": [],
   "source": [
    "reduced_data = PCA(n_components=2).fit_transform(S_te_est)\n",
    "kmeans = KMeans(init='k-means++', n_clusters=10).fit_predict(reduced_data)"
   ]
  },
  {
   "cell_type": "code",
   "execution_count": 81,
   "metadata": {},
   "outputs": [
    {
     "data": {
      "text/plain": [
       "(6180,)"
      ]
     },
     "execution_count": 81,
     "metadata": {},
     "output_type": "execute_result"
    }
   ],
   "source": [
    "kmeans.shape"
   ]
  },
  {
   "cell_type": "code",
   "execution_count": 83,
   "metadata": {},
   "outputs": [
    {
     "data": {
      "image/png": "[encoded data removed]",
      "text/plain": [
       "<Figure size 864x864 with 1 Axes>"
      ]
     },
     "metadata": {
      "needs_background": "light"
     },
     "output_type": "display_data"
    }
   ],
   "source": [
    "plt.figure(figsize=(12, 12))\n",
    "\n",
    "plt.scatter(reduced_data[:, 0], reduced_data[:, 1], c=kmeans)\n",
    "plt.title(\"KNN after PCA\")\n",
    "\n",
    "plt.show()"
   ]
  },
  {
   "cell_type": "code",
   "execution_count": 45,
   "metadata": {},
   "outputs": [
    {
     "name": "stderr",
     "output_type": "stream",
     "text": [
      "/home/r0734623/miniconda3/lib/python3.7/site-packages/sklearn/cluster/k_means_.py:971: ConvergenceWarning: Number of distinct clusters (1) found smaller than n_clusters (2). Possibly due to duplicate points in X.\n",
      "  return_n_iter=True)\n"
     ]
    },
    {
     "ename": "ValueError",
     "evalue": "'c' argument has 6180 elements, which is not acceptable for use with 'x' with size 1500, 'y' with size 1500.",
     "output_type": "error",
     "traceback": [
      "\u001b[0;31m---------------------------------------------------------------------------\u001b[0m",
      "\u001b[0;31mKeyError\u001b[0m                                  Traceback (most recent call last)",
      "\u001b[0;32m~/miniconda3/lib/python3.7/site-packages/matplotlib/colors.py\u001b[0m in \u001b[0;36mto_rgba\u001b[0;34m(c, alpha)\u001b[0m\n\u001b[1;32m    173\u001b[0m     \u001b[0;32mtry\u001b[0m\u001b[0;34m:\u001b[0m\u001b[0;34m\u001b[0m\u001b[0;34m\u001b[0m\u001b[0m\n\u001b[0;32m--> 174\u001b[0;31m         \u001b[0mrgba\u001b[0m \u001b[0;34m=\u001b[0m \u001b[0m_colors_full_map\u001b[0m\u001b[0;34m.\u001b[0m\u001b[0mcache\u001b[0m\u001b[0;34m[\u001b[0m\u001b[0mc\u001b[0m\u001b[0;34m,\u001b[0m \u001b[0malpha\u001b[0m\u001b[0;34m]\u001b[0m\u001b[0;34m\u001b[0m\u001b[0;34m\u001b[0m\u001b[0m\n\u001b[0m\u001b[1;32m    175\u001b[0m     \u001b[0;32mexcept\u001b[0m \u001b[0;34m(\u001b[0m\u001b[0mKeyError\u001b[0m\u001b[0;34m,\u001b[0m \u001b[0mTypeError\u001b[0m\u001b[0;34m)\u001b[0m\u001b[0;34m:\u001b[0m  \u001b[0;31m# Not in cache, or unhashable.\u001b[0m\u001b[0;34m\u001b[0m\u001b[0;34m\u001b[0m\u001b[0m\n",
      "\u001b[0;31mKeyError\u001b[0m: (0, None)",
      "\nDuring handling of the above exception, another exception occurred:\n",
      "\u001b[0;31mValueError\u001b[0m                                Traceback (most recent call last)",
      "\u001b[0;32m~/miniconda3/lib/python3.7/site-packages/matplotlib/axes/_axes.py\u001b[0m in \u001b[0;36mscatter\u001b[0;34m(self, x, y, s, c, marker, cmap, norm, vmin, vmax, alpha, linewidths, verts, edgecolors, **kwargs)\u001b[0m\n\u001b[1;32m   4231\u001b[0m             \u001b[0;32mtry\u001b[0m\u001b[0;34m:\u001b[0m  \u001b[0;31m# Then is 'c' acceptable as PathCollection facecolors?\u001b[0m\u001b[0;34m\u001b[0m\u001b[0;34m\u001b[0m\u001b[0m\n\u001b[0;32m-> 4232\u001b[0;31m                 \u001b[0mcolors\u001b[0m \u001b[0;34m=\u001b[0m \u001b[0mmcolors\u001b[0m\u001b[0;34m.\u001b[0m\u001b[0mto_rgba_array\u001b[0m\u001b[0;34m(\u001b[0m\u001b[0mc\u001b[0m\u001b[0;34m)\u001b[0m\u001b[0;34m\u001b[0m\u001b[0;34m\u001b[0m\u001b[0m\n\u001b[0m\u001b[1;32m   4233\u001b[0m                 \u001b[0mn_elem\u001b[0m \u001b[0;34m=\u001b[0m \u001b[0mcolors\u001b[0m\u001b[0;34m.\u001b[0m\u001b[0mshape\u001b[0m\u001b[0;34m[\u001b[0m\u001b[0;36m0\u001b[0m\u001b[0;34m]\u001b[0m\u001b[0;34m\u001b[0m\u001b[0;34m\u001b[0m\u001b[0m\n",
      "\u001b[0;32m~/miniconda3/lib/python3.7/site-packages/matplotlib/colors.py\u001b[0m in \u001b[0;36mto_rgba_array\u001b[0;34m(c, alpha)\u001b[0m\n\u001b[1;32m    274\u001b[0m     \u001b[0;32mfor\u001b[0m \u001b[0mi\u001b[0m\u001b[0;34m,\u001b[0m \u001b[0mcc\u001b[0m \u001b[0;32min\u001b[0m \u001b[0menumerate\u001b[0m\u001b[0;34m(\u001b[0m\u001b[0mc\u001b[0m\u001b[0;34m)\u001b[0m\u001b[0;34m:\u001b[0m\u001b[0;34m\u001b[0m\u001b[0;34m\u001b[0m\u001b[0m\n\u001b[0;32m--> 275\u001b[0;31m         \u001b[0mresult\u001b[0m\u001b[0;34m[\u001b[0m\u001b[0mi\u001b[0m\u001b[0;34m]\u001b[0m \u001b[0;34m=\u001b[0m \u001b[0mto_rgba\u001b[0m\u001b[0;34m(\u001b[0m\u001b[0mcc\u001b[0m\u001b[0;34m,\u001b[0m \u001b[0malpha\u001b[0m\u001b[0;34m)\u001b[0m\u001b[0;34m\u001b[0m\u001b[0;34m\u001b[0m\u001b[0m\n\u001b[0m\u001b[1;32m    276\u001b[0m     \u001b[0;32mreturn\u001b[0m \u001b[0mresult\u001b[0m\u001b[0;34m\u001b[0m\u001b[0;34m\u001b[0m\u001b[0m\n",
      "\u001b[0;32m~/miniconda3/lib/python3.7/site-packages/matplotlib/colors.py\u001b[0m in \u001b[0;36mto_rgba\u001b[0;34m(c, alpha)\u001b[0m\n\u001b[1;32m    175\u001b[0m     \u001b[0;32mexcept\u001b[0m \u001b[0;34m(\u001b[0m\u001b[0mKeyError\u001b[0m\u001b[0;34m,\u001b[0m \u001b[0mTypeError\u001b[0m\u001b[0;34m)\u001b[0m\u001b[0;34m:\u001b[0m  \u001b[0;31m# Not in cache, or unhashable.\u001b[0m\u001b[0;34m\u001b[0m\u001b[0;34m\u001b[0m\u001b[0m\n\u001b[0;32m--> 176\u001b[0;31m         \u001b[0mrgba\u001b[0m \u001b[0;34m=\u001b[0m \u001b[0m_to_rgba_no_colorcycle\u001b[0m\u001b[0;34m(\u001b[0m\u001b[0mc\u001b[0m\u001b[0;34m,\u001b[0m \u001b[0malpha\u001b[0m\u001b[0;34m)\u001b[0m\u001b[0;34m\u001b[0m\u001b[0;34m\u001b[0m\u001b[0m\n\u001b[0m\u001b[1;32m    177\u001b[0m         \u001b[0;32mtry\u001b[0m\u001b[0;34m:\u001b[0m\u001b[0;34m\u001b[0m\u001b[0;34m\u001b[0m\u001b[0m\n",
      "\u001b[0;32m~/miniconda3/lib/python3.7/site-packages/matplotlib/colors.py\u001b[0m in \u001b[0;36m_to_rgba_no_colorcycle\u001b[0;34m(c, alpha)\u001b[0m\n\u001b[1;32m    226\u001b[0m         \u001b[0;31m# Test dimensionality to reject single floats.\u001b[0m\u001b[0;34m\u001b[0m\u001b[0;34m\u001b[0m\u001b[0;34m\u001b[0m\u001b[0m\n\u001b[0;32m--> 227\u001b[0;31m         \u001b[0;32mraise\u001b[0m \u001b[0mValueError\u001b[0m\u001b[0;34m(\u001b[0m\u001b[0;34m\"Invalid RGBA argument: {!r}\"\u001b[0m\u001b[0;34m.\u001b[0m\u001b[0mformat\u001b[0m\u001b[0;34m(\u001b[0m\u001b[0morig_c\u001b[0m\u001b[0;34m)\u001b[0m\u001b[0;34m)\u001b[0m\u001b[0;34m\u001b[0m\u001b[0;34m\u001b[0m\u001b[0m\n\u001b[0m\u001b[1;32m    228\u001b[0m     \u001b[0;31m# Return a tuple to prevent the cached value from being modified.\u001b[0m\u001b[0;34m\u001b[0m\u001b[0;34m\u001b[0m\u001b[0;34m\u001b[0m\u001b[0m\n",
      "\u001b[0;31mValueError\u001b[0m: Invalid RGBA argument: 0",
      "\nDuring handling of the above exception, another exception occurred:\n",
      "\u001b[0;31mValueError\u001b[0m                                Traceback (most recent call last)",
      "\u001b[0;32m<ipython-input-45-e19158c98299>\u001b[0m in \u001b[0;36m<module>\u001b[0;34m\u001b[0m\n\u001b[1;32m     10\u001b[0m \u001b[0my_pred\u001b[0m \u001b[0;34m=\u001b[0m \u001b[0mKMeans\u001b[0m\u001b[0;34m(\u001b[0m\u001b[0mn_clusters\u001b[0m\u001b[0;34m=\u001b[0m\u001b[0;36m2\u001b[0m\u001b[0;34m,\u001b[0m \u001b[0mrandom_state\u001b[0m\u001b[0;34m=\u001b[0m\u001b[0mrandom_state\u001b[0m\u001b[0;34m)\u001b[0m\u001b[0;34m.\u001b[0m\u001b[0mfit_predict\u001b[0m\u001b[0;34m(\u001b[0m\u001b[0mS_te_est\u001b[0m\u001b[0;34m)\u001b[0m\u001b[0;34m\u001b[0m\u001b[0;34m\u001b[0m\u001b[0m\n\u001b[1;32m     11\u001b[0m \u001b[0;34m\u001b[0m\u001b[0m\n\u001b[0;32m---> 12\u001b[0;31m \u001b[0mplt\u001b[0m\u001b[0;34m.\u001b[0m\u001b[0mscatter\u001b[0m\u001b[0;34m(\u001b[0m\u001b[0mX\u001b[0m\u001b[0;34m[\u001b[0m\u001b[0;34m:\u001b[0m\u001b[0;34m,\u001b[0m \u001b[0;36m0\u001b[0m\u001b[0;34m]\u001b[0m\u001b[0;34m,\u001b[0m \u001b[0mX\u001b[0m\u001b[0;34m[\u001b[0m\u001b[0;34m:\u001b[0m\u001b[0;34m,\u001b[0m \u001b[0;36m1\u001b[0m\u001b[0;34m]\u001b[0m\u001b[0;34m,\u001b[0m \u001b[0mc\u001b[0m\u001b[0;34m=\u001b[0m\u001b[0my_pred\u001b[0m\u001b[0;34m)\u001b[0m\u001b[0;34m\u001b[0m\u001b[0;34m\u001b[0m\u001b[0m\n\u001b[0m\u001b[1;32m     13\u001b[0m \u001b[0mplt\u001b[0m\u001b[0;34m.\u001b[0m\u001b[0mtitle\u001b[0m\u001b[0;34m(\u001b[0m\u001b[0;34m\"Incorrect Number of Blobs\"\u001b[0m\u001b[0;34m)\u001b[0m\u001b[0;34m\u001b[0m\u001b[0;34m\u001b[0m\u001b[0m\n\u001b[1;32m     14\u001b[0m \u001b[0;34m\u001b[0m\u001b[0m\n",
      "\u001b[0;32m~/miniconda3/lib/python3.7/site-packages/matplotlib/pyplot.py\u001b[0m in \u001b[0;36mscatter\u001b[0;34m(x, y, s, c, marker, cmap, norm, vmin, vmax, alpha, linewidths, verts, edgecolors, data, **kwargs)\u001b[0m\n\u001b[1;32m   2860\u001b[0m         \u001b[0mvmin\u001b[0m\u001b[0;34m=\u001b[0m\u001b[0mvmin\u001b[0m\u001b[0;34m,\u001b[0m \u001b[0mvmax\u001b[0m\u001b[0;34m=\u001b[0m\u001b[0mvmax\u001b[0m\u001b[0;34m,\u001b[0m \u001b[0malpha\u001b[0m\u001b[0;34m=\u001b[0m\u001b[0malpha\u001b[0m\u001b[0;34m,\u001b[0m \u001b[0mlinewidths\u001b[0m\u001b[0;34m=\u001b[0m\u001b[0mlinewidths\u001b[0m\u001b[0;34m,\u001b[0m\u001b[0;34m\u001b[0m\u001b[0;34m\u001b[0m\u001b[0m\n\u001b[1;32m   2861\u001b[0m         verts=verts, edgecolors=edgecolors, **({\"data\": data} if data\n\u001b[0;32m-> 2862\u001b[0;31m         is not None else {}), **kwargs)\n\u001b[0m\u001b[1;32m   2863\u001b[0m     \u001b[0msci\u001b[0m\u001b[0;34m(\u001b[0m\u001b[0m__ret\u001b[0m\u001b[0;34m)\u001b[0m\u001b[0;34m\u001b[0m\u001b[0;34m\u001b[0m\u001b[0m\n\u001b[1;32m   2864\u001b[0m     \u001b[0;32mreturn\u001b[0m \u001b[0m__ret\u001b[0m\u001b[0;34m\u001b[0m\u001b[0;34m\u001b[0m\u001b[0m\n",
      "\u001b[0;32m~/miniconda3/lib/python3.7/site-packages/matplotlib/__init__.py\u001b[0m in \u001b[0;36minner\u001b[0;34m(ax, data, *args, **kwargs)\u001b[0m\n\u001b[1;32m   1808\u001b[0m                         \u001b[0;34m\"the Matplotlib list!)\"\u001b[0m \u001b[0;34m%\u001b[0m \u001b[0;34m(\u001b[0m\u001b[0mlabel_namer\u001b[0m\u001b[0;34m,\u001b[0m \u001b[0mfunc\u001b[0m\u001b[0;34m.\u001b[0m\u001b[0m__name__\u001b[0m\u001b[0;34m)\u001b[0m\u001b[0;34m,\u001b[0m\u001b[0;34m\u001b[0m\u001b[0;34m\u001b[0m\u001b[0m\n\u001b[1;32m   1809\u001b[0m                         RuntimeWarning, stacklevel=2)\n\u001b[0;32m-> 1810\u001b[0;31m             \u001b[0;32mreturn\u001b[0m \u001b[0mfunc\u001b[0m\u001b[0;34m(\u001b[0m\u001b[0max\u001b[0m\u001b[0;34m,\u001b[0m \u001b[0;34m*\u001b[0m\u001b[0margs\u001b[0m\u001b[0;34m,\u001b[0m \u001b[0;34m**\u001b[0m\u001b[0mkwargs\u001b[0m\u001b[0;34m)\u001b[0m\u001b[0;34m\u001b[0m\u001b[0;34m\u001b[0m\u001b[0m\n\u001b[0m\u001b[1;32m   1811\u001b[0m \u001b[0;34m\u001b[0m\u001b[0m\n\u001b[1;32m   1812\u001b[0m         inner.__doc__ = _add_data_doc(inner.__doc__,\n",
      "\u001b[0;32m~/miniconda3/lib/python3.7/site-packages/matplotlib/axes/_axes.py\u001b[0m in \u001b[0;36mscatter\u001b[0;34m(self, x, y, s, c, marker, cmap, norm, vmin, vmax, alpha, linewidths, verts, edgecolors, **kwargs)\u001b[0m\n\u001b[1;32m   4243\u001b[0m                         \u001b[0;34m\"acceptable for use with 'x' with size {xs}, \"\u001b[0m\u001b[0;34m\u001b[0m\u001b[0;34m\u001b[0m\u001b[0m\n\u001b[1;32m   4244\u001b[0m                         \u001b[0;34m\"'y' with size {ys}.\"\u001b[0m\u001b[0;34m\u001b[0m\u001b[0;34m\u001b[0m\u001b[0m\n\u001b[0;32m-> 4245\u001b[0;31m                         \u001b[0;34m.\u001b[0m\u001b[0mformat\u001b[0m\u001b[0;34m(\u001b[0m\u001b[0mnc\u001b[0m\u001b[0;34m=\u001b[0m\u001b[0mn_elem\u001b[0m\u001b[0;34m,\u001b[0m \u001b[0mxs\u001b[0m\u001b[0;34m=\u001b[0m\u001b[0mx\u001b[0m\u001b[0;34m.\u001b[0m\u001b[0msize\u001b[0m\u001b[0;34m,\u001b[0m \u001b[0mys\u001b[0m\u001b[0;34m=\u001b[0m\u001b[0my\u001b[0m\u001b[0;34m.\u001b[0m\u001b[0msize\u001b[0m\u001b[0;34m)\u001b[0m\u001b[0;34m\u001b[0m\u001b[0;34m\u001b[0m\u001b[0m\n\u001b[0m\u001b[1;32m   4246\u001b[0m                     )\n\u001b[1;32m   4247\u001b[0m                 \u001b[0;31m# Both the mapping *and* the RGBA conversion failed: pretty\u001b[0m\u001b[0;34m\u001b[0m\u001b[0;34m\u001b[0m\u001b[0;34m\u001b[0m\u001b[0m\n",
      "\u001b[0;31mValueError\u001b[0m: 'c' argument has 6180 elements, which is not acceptable for use with 'x' with size 1500, 'y' with size 1500."
     ]
    },
    {
     "data": {
      "image/png": "[encoded data removed]",
      "text/plain": [
       "<Figure size 864x864 with 1 Axes>"
      ]
     },
     "metadata": {
      "needs_background": "light"
     },
     "output_type": "display_data"
    }
   ],
   "source": [
    "\n",
    "\n",
    "# Incorrect number of clusters\n",
    "y_pred = KMeans(n_clusters=2, random_state=random_state).fit_predict(pca)\n",
    "\n",
    "plt.scatter(S_te_est[:, 0], S_te_est[:, 1], c=y_pred)\n",
    "plt.title(\"Incorrect Number of Blobs\")\n",
    "\n",
    "plt.show()"
   ]
  },
  {
   "cell_type": "code",
   "execution_count": null,
   "metadata": {},
   "outputs": [],
   "source": []
  }
 ],
 "metadata": {
  "kernelspec": {
   "display_name": "Python 3",
   "language": "python",
   "name": "python3"
  },
  "language_info": {
   "codemirror_mode": {
    "name": "ipython",
    "version": 3
   },
   "file_extension": ".py",
   "mimetype": "text/x-python",
   "name": "python",
   "nbconvert_exporter": "python",
   "pygments_lexer": "ipython3",
   "version": "3.7.2"
  }
 },
 "nbformat": 4,
 "nbformat_minor": 2
}
