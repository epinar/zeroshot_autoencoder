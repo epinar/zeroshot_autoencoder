{
 "cells": [
  {
   "cell_type": "code",
   "execution_count": 22,
   "metadata": {},
   "outputs": [
    {
     "name": "stdout",
     "output_type": "stream",
     "text": [
      "Classes: \n",
      "      1\tantelope\n",
      "     2\tgrizzly+bear\n",
      "     3\tkiller+whale\n",
      "     4\tbeaver\n",
      "     5\tdalmatian\n",
      "     6\tpersian+cat\n",
      "     7\thorse\n",
      "     8\tgerman+shepherd\n",
      "     9\tblue+whale\n",
      "    10\tsiamese+cat\n",
      "    11\tskunk\n",
      "    12\tmole\n",
      "    13\ttiger\n",
      "    14\thippopotamus\n",
      "    15\tleopard\n",
      "    16\tmoose\n",
      "    17\tspider+monkey\n",
      "    18\thumpback+whale\n",
      "    19\telephant\n",
      "    20\tgorilla\n",
      "    21\tox\n",
      "    22\tfox\n",
      "    23\tsheep\n",
      "    24\tseal\n",
      "    25\tchimpanzee\n",
      "    26\thamster\n",
      "    27\tsquirrel\n",
      "    28\trhinoceros\n",
      "    29\trabbit\n",
      "    30\tbat\n",
      "    31\tgiraffe\n",
      "    32\twolf\n",
      "    33\tchihuahua\n",
      "    34\trat\n",
      "    35\tweasel\n",
      "    36\totter\n",
      "    37\tbuffalo\n",
      "    38\tzebra\n",
      "    39\tgiant+panda\n",
      "    40\tdeer\n",
      "    41\tbobcat\n",
      "    42\tpig\n",
      "    43\tlion\n",
      "    44\tmouse\n",
      "    45\tpolar+bear\n",
      "    46\tcollie\n",
      "    47\twalrus\n",
      "    48\traccoon\n",
      "    49\tcow\n",
      "    50\tdolphin\n",
      "\n",
      "Predicates: \n",
      "      1\tblack\n",
      "     2\twhite\n",
      "     3\tblue\n",
      "     4\tbrown\n",
      "     5\tgray\n",
      "     6\torange\n",
      "     7\tred\n",
      "     8\tyellow\n",
      "     9\tpatches\n",
      "    10\tspots\n",
      "    11\tstripes\n",
      "    12\tfurry\n",
      "    13\thairless\n",
      "    14\ttoughskin\n",
      "    15\tbig\n",
      "    16\tsmall\n",
      "    17\tbulbous\n",
      "    18\tlean\n",
      "    19\tflippers\n",
      "    20\thands\n",
      "    21\thooves\n",
      "    22\tpads\n",
      "    23\tpaws\n",
      "    24\tlongleg\n",
      "    25\tlongneck\n",
      "    26\ttail\n",
      "    27\tchewteeth\n",
      "    28\tmeatteeth\n",
      "    29\tbuckteeth\n",
      "    30\tstrainteeth\n",
      "    31\thorns\n",
      "    32\tclaws\n",
      "    33\ttusks\n",
      "    34\tsmelly\n",
      "    35\tflys\n",
      "    36\thops\n",
      "    37\tswims\n",
      "    38\ttunnels\n",
      "    39\twalks\n",
      "    40\tfast\n",
      "    41\tslow\n",
      "    42\tstrong\n",
      "    43\tweak\n",
      "    44\tmuscle\n",
      "    45\tbipedal\n",
      "    46\tquadrapedal\n",
      "    47\tactive\n",
      "    48\tinactive\n",
      "    49\tnocturnal\n",
      "    50\thibernate\n",
      "    51\tagility\n",
      "    52\tfish\n",
      "    53\tmeat\n",
      "    54\tplankton\n",
      "    55\tvegetation\n",
      "    56\tinsects\n",
      "    57\tforager\n",
      "    58\tgrazer\n",
      "    59\thunter\n",
      "    60\tscavenger\n",
      "    61\tskimmer\n",
      "    62\tstalker\n",
      "    63\tnewworld\n",
      "    64\toldworld\n",
      "    65\tarctic\n",
      "    66\tcoastal\n",
      "    67\tdesert\n",
      "    68\tbush\n",
      "    69\tplains\n",
      "    70\tforest\n",
      "    71\tfields\n",
      "    72\tjungle\n",
      "    73\tmountains\n",
      "    74\tocean\n",
      "    75\tground\n",
      "    76\twater\n",
      "    77\ttree\n",
      "    78\tcave\n",
      "    79\tfierce\n",
      "    80\ttimid\n",
      "    81\tsmart\n",
      "    82\tgroup\n",
      "    83\tsolitary\n",
      "    84\tnestspot\n",
      "    85\tdomestic\n",
      "\n"
     ]
    }
   ],
   "source": [
    "file_name = \"Animals_with_Attributes2\"\n",
    "\n",
    "classes = open(file_name+'/classes.txt',\"r+\").read()\n",
    "print(\"Classes: \\n\", classes)\n",
    "\n",
    "predicates = open(file_name+'/predicates.txt',\"r+\").read()\n",
    "print(\"Predicates: \\n\", predicates)"
   ]
  },
  {
   "cell_type": "code",
   "execution_count": 23,
   "metadata": {},
   "outputs": [
    {
     "data": {
      "image/png": "[encoded data removed]",
      "text/plain": [
       "<Figure size 432x288 with 1 Axes>"
      ]
     },
     "metadata": {
      "needs_background": "light"
     },
     "output_type": "display_data"
    }
   ],
   "source": [
    "import matplotlib.pyplot as plt\n",
    "import matplotlib.image as mpimg\n",
    "\n",
    "img=mpimg.imread(file_name+'/predicate-matrix.png')\n",
    "imgplot = plt.imshow(img)\n",
    "plt.show()"
   ]
  },
  {
   "cell_type": "code",
   "execution_count": 59,
   "metadata": {},
   "outputs": [],
   "source": [
    "predicate_mat = open(file_name+'/predicate-matrix-binary.txt',\"r+\").read()\n",
    "pred_mat = [x.split(' ') for x in predicate_mat.split('\\n')][:-1]\n",
    "pred_mat = [[(int)(a) for a in x] for x in pred_mat]"
   ]
  },
  {
   "cell_type": "code",
   "execution_count": 49,
   "metadata": {},
   "outputs": [
    {
     "data": {
      "text/plain": [
       "'bipedal'"
      ]
     },
     "execution_count": 49,
     "metadata": {},
     "output_type": "execute_result"
    }
   ],
   "source": [
    "pred_lines = predicates.split('\\n')[:-1]\n",
    "preds = [x.split('\\t')[1] for x in pred_lines]\n",
    "preds[44]"
   ]
  },
  {
   "cell_type": "code",
   "execution_count": 80,
   "metadata": {},
   "outputs": [],
   "source": [
    "clses = [x.split('\\t') for x in classes.split('\\n')][:-1]"
   ]
  },
  {
   "cell_type": "code",
   "execution_count": 83,
   "metadata": {},
   "outputs": [],
   "source": [
    "animal_dict = {}\n",
    "for i, a in enumerate(clses):\n",
    "    animal_dict[a[1]]=i"
   ]
  },
  {
   "cell_type": "code",
   "execution_count": 58,
   "metadata": {},
   "outputs": [
    {
     "name": "stdout",
     "output_type": "stream",
     "text": [
      "tiger has:  black\n",
      "tiger has:  white\n",
      "lion has:  brown\n",
      "tiger has:  orange\n",
      "lion has:  yellow\n",
      "tiger has:  stripes\n",
      "lion has:  bulbous\n",
      "tiger has:  chewteeth\n",
      "tiger has:  buckteeth\n",
      "lion has:  inactive\n",
      "tiger has:  nocturnal\n",
      "lion has:  forager\n",
      "lion has:  desert\n",
      "tiger has:  plains\n",
      "lion has:  mountains\n",
      "tiger has:  solitary\n",
      "diffs:  16\n"
     ]
    }
   ],
   "source": [
    "tiger = pred_mat[12]\n",
    "lion = pred_mat[42]\n",
    "diffs = 0\n",
    "for i in range(85):\n",
    "    if tiger[i] != lion[i]:\n",
    "        diffs += 1\n",
    "        if tiger[i]==1:\n",
    "            print(\"tiger has: \", preds[i])\n",
    "        elif lion[i] == 1:\n",
    "            print(\"lion has: \", preds[i])\n",
    "print(\"diffs: \", diffs)"
   ]
  },
  {
   "cell_type": "code",
   "execution_count": 56,
   "metadata": {},
   "outputs": [
    {
     "name": "stdout",
     "output_type": "stream",
     "text": [
      "hamster has:  black\n",
      "hamster has:  white\n",
      "hamster has:  patches\n",
      "hamster has:  bulbous\n",
      "squirrel has:  pads\n",
      "hamster has:  smelly\n",
      "hamster has:  tunnels\n",
      "hamster has:  weak\n",
      "hamster has:  inactive\n",
      "hamster has:  nocturnal\n",
      "hamster has:  grazer\n",
      "squirrel has:  oldworld\n",
      "squirrel has:  forest\n",
      "hamster has:  fields\n",
      "hamster has:  domestic\n",
      "diffs:  17\n"
     ]
    }
   ],
   "source": [
    "hams = pred_mat[25]\n",
    "squir = pred_mat[26]\n",
    "diffs = 0\n",
    "for i in range(85):\n",
    "    if hams[i] != squir[i]:\n",
    "        diffs += 1\n",
    "        if hams[i]==1:\n",
    "            print(\"hamster has: \", preds[i])\n",
    "        elif lion[i] == 1:\n",
    "            print(\"squirrel has: \", preds[i])\n",
    "print(\"diffs: \", diffs)"
   ]
  },
  {
   "cell_type": "code",
   "execution_count": 62,
   "metadata": {},
   "outputs": [
    {
     "name": "stdout",
     "output_type": "stream",
     "text": [
      "giant panda has:  black\n",
      "polar bear has:  white\n",
      "giant panda has:  brown\n",
      "polar bear has:  pads\n",
      "polar bear has:  smelly\n",
      "polar bear has:  swims\n",
      "giant panda has:  muscle\n",
      "giant panda has:  nocturnal\n",
      "polar bear has:  agility\n",
      "polar bear has:  scavenger\n",
      "polar bear has:  oldworld\n",
      "polar bear has:  arctic\n",
      "polar bear has:  coastal\n",
      "giant panda has:  forest\n",
      "giant panda has:  mountains\n",
      "polar bear has:  ocean\n",
      "polar bear has:  water\n",
      "giant panda has:  cave\n",
      "giant panda has:  smart\n",
      "diffs:  19\n"
     ]
    }
   ],
   "source": [
    "panda = pred_mat[38]\n",
    "polar = pred_mat[44]\n",
    "bear = pred_mat[1]\n",
    "panda = bear\n",
    "diffs = 0\n",
    "for i in range(85):\n",
    "    if panda[i] != polar[i]:\n",
    "        diffs += 1\n",
    "        if panda[i]==1:\n",
    "            print(\"giant panda has: \", preds[i])\n",
    "        elif polar[i] == 1:\n",
    "            print(\"polar bear has: \", preds[i])\n",
    "print(\"diffs: \", diffs)"
   ]
  },
  {
   "cell_type": "code",
   "execution_count": 101,
   "metadata": {},
   "outputs": [
    {
     "name": "stdout",
     "output_type": "stream",
     "text": [
      "raccoon  has:  gray\n",
      "raccoon  has:  patches\n",
      "raccoon  has:  spots\n",
      "skunk  has:  bulbous\n",
      "raccoon  has:  chewteeth\n",
      "raccoon  has:  meatteeth\n",
      "raccoon  has:  claws\n",
      "skunk  has:  smelly\n",
      "skunk  has:  slow\n",
      "skunk  has:  weak\n",
      "raccoon  has:  agility\n",
      "raccoon  has:  fish\n",
      "raccoon  has:  meat\n",
      "raccoon  has:  scavenger\n",
      "raccoon  has:  mountains\n",
      "raccoon  has:  tree\n",
      "raccoon  has:  fierce\n",
      "skunk  has:  timid\n",
      "raccoon  has:  smart\n",
      "raccoon  has:  nestspot\n",
      "diffs:  20\n"
     ]
    }
   ],
   "source": [
    "a1 = 'raccoon'\n",
    "a2 = 'skunk'\n",
    "\n",
    "p1 = pred_mat[animal_dict[a1]]\n",
    "p2 = pred_mat[animal_dict[a2]]\n",
    "diffs = 0\n",
    "for i in range(85):\n",
    "    if p1[i] != p2[i]:\n",
    "        diffs += 1\n",
    "        if p1[i]==1:\n",
    "            print(a1,\" has: \", preds[i])\n",
    "        elif p2[i] == 1:\n",
    "            print(a2,\" has: \", preds[i])\n",
    "print(\"diffs: \", diffs)"
   ]
  },
  {
   "cell_type": "code",
   "execution_count": 103,
   "metadata": {},
   "outputs": [
    {
     "name": "stdout",
     "output_type": "stream",
     "text": [
      "both has:  black\n",
      "both has:  white\n",
      "horse  has:  brown\n",
      "horse  has:  gray\n",
      "horse  has:  patches\n",
      "zebra  has:  stripes\n",
      "both has:  furry\n",
      "both has:  toughskin\n",
      "both has:  big\n",
      "both has:  lean\n",
      "both has:  hooves\n",
      "both has:  longleg\n",
      "both has:  longneck\n",
      "both has:  tail\n",
      "both has:  chewteeth\n",
      "horse  has:  buckteeth\n",
      "horse  has:  smelly\n",
      "both has:  walks\n",
      "both has:  fast\n",
      "both has:  strong\n",
      "both has:  muscle\n",
      "both has:  quadrapedal\n",
      "both has:  active\n",
      "both has:  agility\n",
      "both has:  vegetation\n",
      "zebra  has:  forager\n",
      "both has:  grazer\n",
      "horse  has:  newworld\n",
      "both has:  oldworld\n",
      "zebra  has:  bush\n",
      "both has:  plains\n",
      "both has:  fields\n",
      "both has:  ground\n",
      "both has:  timid\n",
      "both has:  smart\n",
      "both has:  group\n",
      "horse  has:  domestic\n",
      "diffs:  10\n",
      "\n",
      "\n",
      "both has:  black\n",
      "both has:  white\n",
      "horse  has:  brown\n",
      "both has:  gray\n",
      "both has:  patches\n",
      "raccoon  has:  spots\n",
      "raccoon  has:  stripes\n",
      "both has:  furry\n",
      "horse  has:  toughskin\n",
      "horse  has:  big\n",
      "raccoon  has:  small\n",
      "horse  has:  lean\n",
      "horse  has:  hooves\n",
      "raccoon  has:  pads\n",
      "raccoon  has:  paws\n",
      "horse  has:  longleg\n",
      "horse  has:  longneck\n",
      "both has:  tail\n",
      "both has:  chewteeth\n",
      "raccoon  has:  meatteeth\n",
      "horse  has:  buckteeth\n",
      "raccoon  has:  claws\n",
      "horse  has:  smelly\n",
      "both has:  walks\n",
      "both has:  fast\n",
      "horse  has:  strong\n",
      "horse  has:  muscle\n",
      "both has:  quadrapedal\n",
      "both has:  active\n",
      "raccoon  has:  nocturnal\n",
      "raccoon  has:  hibernate\n",
      "both has:  agility\n",
      "raccoon  has:  fish\n",
      "raccoon  has:  meat\n",
      "both has:  vegetation\n",
      "raccoon  has:  forager\n",
      "horse  has:  grazer\n",
      "raccoon  has:  scavenger\n",
      "both has:  newworld\n",
      "both has:  oldworld\n",
      "horse  has:  plains\n",
      "raccoon  has:  forest\n",
      "both has:  fields\n",
      "raccoon  has:  mountains\n",
      "both has:  ground\n",
      "raccoon  has:  tree\n",
      "raccoon  has:  fierce\n",
      "horse  has:  timid\n",
      "both has:  smart\n",
      "horse  has:  group\n",
      "raccoon  has:  solitary\n",
      "raccoon  has:  nestspot\n",
      "horse  has:  domestic\n",
      "diffs:  35\n",
      "\n",
      "\n",
      "both has:  black\n",
      "both has:  white\n",
      "raccoon  has:  gray\n",
      "raccoon  has:  patches\n",
      "raccoon  has:  spots\n",
      "both has:  stripes\n",
      "both has:  furry\n",
      "zebra  has:  toughskin\n",
      "zebra  has:  big\n",
      "raccoon  has:  small\n",
      "zebra  has:  lean\n",
      "zebra  has:  hooves\n",
      "raccoon  has:  pads\n",
      "raccoon  has:  paws\n",
      "zebra  has:  longleg\n",
      "zebra  has:  longneck\n",
      "both has:  tail\n",
      "both has:  chewteeth\n",
      "raccoon  has:  meatteeth\n",
      "raccoon  has:  claws\n",
      "both has:  walks\n",
      "both has:  fast\n",
      "zebra  has:  strong\n",
      "zebra  has:  muscle\n",
      "both has:  quadrapedal\n",
      "both has:  active\n",
      "raccoon  has:  nocturnal\n",
      "raccoon  has:  hibernate\n",
      "both has:  agility\n",
      "raccoon  has:  fish\n",
      "raccoon  has:  meat\n",
      "both has:  vegetation\n",
      "both has:  forager\n",
      "zebra  has:  grazer\n",
      "raccoon  has:  scavenger\n",
      "raccoon  has:  newworld\n",
      "both has:  oldworld\n",
      "zebra  has:  bush\n",
      "zebra  has:  plains\n",
      "raccoon  has:  forest\n",
      "both has:  fields\n",
      "raccoon  has:  mountains\n",
      "both has:  ground\n",
      "raccoon  has:  tree\n",
      "raccoon  has:  fierce\n",
      "zebra  has:  timid\n",
      "both has:  smart\n",
      "zebra  has:  group\n",
      "raccoon  has:  solitary\n",
      "raccoon  has:  nestspot\n",
      "diffs:  33\n"
     ]
    }
   ],
   "source": [
    "#a1 = 'humpback+whale'\n",
    "#a2 = 'blue+whale'\n",
    "\n",
    "a1 = 'zebra'\n",
    "a2 = 'horse'\n",
    "\n",
    "p1 = pred_mat[animal_dict[a1]]\n",
    "p2 = pred_mat[animal_dict[a2]]\n",
    "diffs = 0\n",
    "for i in range(85):\n",
    "    if p1[i] != p2[i]:\n",
    "        diffs += 1\n",
    "        if p1[i]==1:\n",
    "            print(a1,\" has: \", preds[i])\n",
    "        elif p2[i] == 1:\n",
    "            print(a2,\" has: \", preds[i])\n",
    "    elif p1[i] == 1:\n",
    "        print(\"both has: \", preds[i])\n",
    "print(\"diffs: \", diffs)\n",
    "print(\"\\n\")\n",
    "\n",
    "a1 = 'raccoon'\n",
    "\n",
    "#a1 = 'horse'\n",
    "a2 = 'horse'\n",
    "\n",
    "p1 = pred_mat[animal_dict[a1]]\n",
    "p2 = pred_mat[animal_dict[a2]]\n",
    "diffs = 0\n",
    "for i in range(85):\n",
    "    if p1[i] != p2[i]:\n",
    "        diffs += 1\n",
    "        if p1[i]==1:\n",
    "            print(a1,\" has: \", preds[i])\n",
    "        elif p2[i] == 1:\n",
    "            print(a2,\" has: \", preds[i])\n",
    "    elif p1[i] == 1:\n",
    "        print(\"both has: \", preds[i])\n",
    "print(\"diffs: \", diffs)\n",
    "print(\"\\n\")\n",
    "#a1 = 'horse'\n",
    "a2 = 'zebra'\n",
    "\n",
    "p1 = pred_mat[animal_dict[a1]]\n",
    "p2 = pred_mat[animal_dict[a2]]\n",
    "diffs = 0\n",
    "for i in range(85):\n",
    "    if p1[i] != p2[i]:\n",
    "        diffs += 1\n",
    "        if p1[i]==1:\n",
    "            print(a1,\" has: \", preds[i])\n",
    "        elif p2[i] == 1:\n",
    "            print(a2,\" has: \", preds[i])\n",
    "    elif p1[i] == 1:\n",
    "        print(\"both has: \", preds[i])\n",
    "print(\"diffs: \", diffs)"
   ]
  },
  {
   "cell_type": "code",
   "execution_count": 70,
   "metadata": {},
   "outputs": [
    {
     "name": "stdout",
     "output_type": "stream",
     "text": [
      "seal has:  black\n",
      "seal has:  white\n",
      "seal has:  spots\n",
      "seal has:  small\n",
      "walrus has:  bulbous\n",
      "seal has:  tail\n",
      "walrus has:  chewteeth\n",
      "walrus has:  meatteeth\n",
      "walrus has:  buckteeth\n",
      "walrus has:  strainteeth\n",
      "walrus has:  tusks\n",
      "walrus has:  smelly\n",
      "seal has:  active\n",
      "seal has:  agility\n",
      "seal has:  hunter\n",
      "seal has:  oldworld\n",
      "walrus has:  nestspot\n",
      "seal has:  domestic\n",
      "diffs:  18\n"
     ]
    }
   ],
   "source": [
    "walrus = pred_mat[46]\n",
    "seal = pred_mat[23]\n",
    "diffs = 0\n",
    "for i in range(85):\n",
    "    if walrus[i] != seal[i]:\n",
    "        diffs += 1\n",
    "        if walrus[i]==1:\n",
    "            print(\"walrus has: \", preds[i])\n",
    "        elif seal[i] == 1:\n",
    "            print(\"seal has: \", preds[i])\n",
    "print(\"diffs: \", diffs)"
   ]
  },
  {
   "cell_type": "code",
   "execution_count": 3,
   "metadata": {},
   "outputs": [
    {
     "data": {
      "text/plain": [
       "dict_keys(['__header__', '__version__', '__globals__', 'features', 'image_files', 'labels'])"
      ]
     },
     "execution_count": 3,
     "metadata": {},
     "output_type": "execute_result"
    }
   ],
   "source": [
    "from scipy import spatial\n",
    "import scipy.io as scio\n",
    "\n",
    "file_name = 'xlsa17/data/AWA2'\n",
    "res101=scio.loadmat(file_name+'/'+\"res101.mat\")\n",
    "res101.keys()"
   ]
  },
  {
   "cell_type": "code",
   "execution_count": 4,
   "metadata": {},
   "outputs": [
    {
     "data": {
      "text/plain": [
       "2048"
      ]
     },
     "execution_count": 4,
     "metadata": {},
     "output_type": "execute_result"
    }
   ],
   "source": [
    "len(res101['features'])"
   ]
  },
  {
   "cell_type": "code",
   "execution_count": 5,
   "metadata": {},
   "outputs": [
    {
     "data": {
      "text/plain": [
       "37322"
      ]
     },
     "execution_count": 5,
     "metadata": {},
     "output_type": "execute_result"
    }
   ],
   "source": [
    "len(res101['labels'])"
   ]
  },
  {
   "cell_type": "code",
   "execution_count": 6,
   "metadata": {},
   "outputs": [
    {
     "data": {
      "text/plain": [
       "array([array(['/BS/xian/work/data/Animals_with_Attributes2//JPEGImages/antelope/antelope_10001.jpg'],\n",
       "      dtype='<U83')], dtype=object)"
      ]
     },
     "execution_count": 6,
     "metadata": {},
     "output_type": "execute_result"
    }
   ],
   "source": [
    "res101['image_files'][0]"
   ]
  },
  {
   "cell_type": "code",
   "execution_count": 7,
   "metadata": {},
   "outputs": [],
   "source": [
    "atts=scio.loadmat(file_name+'/'+\"att_splits.mat\")"
   ]
  },
  {
   "cell_type": "code",
   "execution_count": 8,
   "metadata": {},
   "outputs": [
    {
     "data": {
      "text/plain": [
       "dict_keys(['__header__', '__version__', '__globals__', 'allclasses_names', 'att', 'original_att', 'test_seen_loc', 'test_unseen_loc', 'train_loc', 'trainval_loc', 'val_loc'])"
      ]
     },
     "execution_count": 8,
     "metadata": {},
     "output_type": "execute_result"
    }
   ],
   "source": [
    "atts.keys()"
   ]
  },
  {
   "cell_type": "code",
   "execution_count": 9,
   "metadata": {},
   "outputs": [
    {
     "data": {
      "text/plain": [
       "(85, array([-1.  , 39.25, 83.4 , 19.38, 69.58, 19.38, 44.9 , 43.54, 12.92,\n",
       "        56.21, 87.99, 39.05, 42.47,  4.77, 40.88, 10.24, 36.04, 24.01,\n",
       "         2.5 , 63.37, 43.99,  0.  , 32.36, 81.96, 47.51, 41.38, 10.56,\n",
       "         9.75, 26.49, 91.55,  6.11, 43.74, 32.63, 50.13, 30.57, 46.81,\n",
       "        45.37, 85.04, 76.85,  0.  , 16.13, 21.52,  1.88, 18.37, 10.  ,\n",
       "        10.13, 18.84, 63.57, 55.31, 10.22]))"
      ]
     },
     "execution_count": 9,
     "metadata": {},
     "output_type": "execute_result"
    }
   ],
   "source": [
    "len(atts['original_att']), atts['original_att'][0]"
   ]
  },
  {
   "cell_type": "code",
   "execution_count": 10,
   "metadata": {},
   "outputs": [
    {
     "data": {
      "text/plain": [
       "array([36867], dtype=uint16)"
      ]
     },
     "execution_count": 10,
     "metadata": {},
     "output_type": "execute_result"
    }
   ],
   "source": [
    "atts['trainval_loc'][3]"
   ]
  },
  {
   "cell_type": "code",
   "execution_count": 11,
   "metadata": {},
   "outputs": [],
   "source": [
    "bin_atts=scio.loadmat(file_name+'/'+\"binaryAtt_splits.mat\")"
   ]
  },
  {
   "cell_type": "code",
   "execution_count": 12,
   "metadata": {},
   "outputs": [
    {
     "data": {
      "text/plain": [
       "(85, 50)"
      ]
     },
     "execution_count": 12,
     "metadata": {},
     "output_type": "execute_result"
    }
   ],
   "source": [
    "bin_atts['att'].shape"
   ]
  },
  {
   "cell_type": "code",
   "execution_count": 13,
   "metadata": {},
   "outputs": [
    {
     "name": "stdout",
     "output_type": "stream",
     "text": [
      "Classes: \n",
      " squirrel\n",
      "collie\n",
      "grizzly+bear\n",
      "otter\n",
      "mouse\n",
      "siamese+cat\n",
      "wolf\n",
      "elephant\n",
      "polar+bear\n",
      "antelope\n",
      "chihuahua\n",
      "skunk\n",
      "buffalo\n",
      "weasel\n",
      "fox\n",
      "german+shepherd\n",
      "persian+cat\n",
      "spider+monkey\n",
      "hippopotamus\n",
      "humpback+whale\n",
      "cow\n",
      "rhinoceros\n",
      "tiger\n",
      "killer+whale\n",
      "lion\n",
      "zebra\n",
      "pig\n",
      "\n",
      "Classes: \n",
      " sheep\n",
      "dolphin\n",
      "bat\n",
      "seal\n",
      "blue+whale\n",
      "rat\n",
      "horse\n",
      "walrus\n",
      "giraffe\n",
      "bobcat\n",
      "\n"
     ]
    }
   ],
   "source": [
    "trainclasses1 = open(file_name+'/trainclasses1.txt',\"r+\").read()\n",
    "print(\"Classes: \\n\", trainclasses1)\n",
    "testclasses = open(file_name+'/testclasses.txt',\"r+\").read()\n",
    "print(\"Classes: \\n\", testclasses)"
   ]
  },
  {
   "cell_type": "code",
   "execution_count": 14,
   "metadata": {},
   "outputs": [],
   "source": [
    "code=scio.loadmat('xlsa17/code/ale_AWA_1e-3_50.mat')"
   ]
  },
  {
   "cell_type": "code",
   "execution_count": 15,
   "metadata": {},
   "outputs": [
    {
     "data": {
      "text/plain": [
       "2048"
      ]
     },
     "execution_count": 15,
     "metadata": {},
     "output_type": "execute_result"
    }
   ],
   "source": [
    "len(code['W'])"
   ]
  },
  {
   "cell_type": "code",
   "execution_count": 16,
   "metadata": {},
   "outputs": [],
   "source": [
    "from sklearn.neural_network import MLPClassifier"
   ]
  },
  {
   "cell_type": "code",
   "execution_count": 17,
   "metadata": {},
   "outputs": [
    {
     "data": {
      "text/plain": [
       "array([1, 0])"
      ]
     },
     "execution_count": 17,
     "metadata": {},
     "output_type": "execute_result"
    }
   ],
   "source": [
    "X = [[0., 0.], [1., 1.]]\n",
    "y = [0, 1]\n",
    "clf = MLPClassifier(solver='lbfgs', alpha=1e-5,\n",
    "                    hidden_layer_sizes=(5, 2), random_state=1)\n",
    "\n",
    "clf.fit(X, y)\n",
    "clf.predict([[2., 2.], [-1., -2.]])"
   ]
  },
  {
   "cell_type": "code",
   "execution_count": 18,
   "metadata": {},
   "outputs": [],
   "source": [
    "train_ids = atts['train_loc'][:, 0]\n",
    "train_feats = res101['features'][:, train_ids-1]\n",
    "train_labels = res101['labels'][train_ids-1]\n",
    "val_ids = atts['val_loc'][:, 0]\n",
    "val_feats = res101['features'][:, val_ids-1]\n",
    "val_labels = res101['labels'][val_ids-1]\n",
    "test_ids = atts['test_unseen_loc'][:, 0]\n",
    "test_feats = res101['features'][:, test_ids-1]\n",
    "test_labels = res101['labels'][test_ids-1]"
   ]
  },
  {
   "cell_type": "code",
   "execution_count": 32,
   "metadata": {},
   "outputs": [
    {
     "data": {
      "text/plain": [
       "dict_keys(['__header__', '__version__', '__globals__', 'features', 'image_files', 'labels'])"
      ]
     },
     "execution_count": 32,
     "metadata": {},
     "output_type": "execute_result"
    }
   ],
   "source": [
    "res101."
   ]
  },
  {
   "cell_type": "code",
   "execution_count": 55,
   "metadata": {},
   "outputs": [],
   "source": [
    "class_names = [v[0][0] for v in atts['allclasses_names']]"
   ]
  },
  {
   "cell_type": "code",
   "execution_count": 169,
   "metadata": {},
   "outputs": [],
   "source": [
    "def mlp_classify(train_feats, val_feats, y, y_gt):\n",
    "    clf = MLPClassifier(solver='lbfgs', alpha=1e-5,\n",
    "                        hidden_layer_sizes=(5, ), random_state=1)\n",
    "\n",
    "    clf.fit(train_feats.transpose(), y)\n",
    "    y_predict = clf.predict(val_feats.transpose())\n",
    "\n",
    "    accuracy_score = clf.score(val_feats.transpose(), y_gt)\n",
    "    return accuracy_score"
   ]
  },
  {
   "cell_type": "code",
   "execution_count": 178,
   "metadata": {},
   "outputs": [
    {
     "data": {
      "text/plain": [
       "((7913, 1), (9191, 1))"
      ]
     },
     "execution_count": 178,
     "metadata": {},
     "output_type": "execute_result"
    }
   ],
   "source": [
    "test_labels.shape, val_labels.shape"
   ]
  },
  {
   "cell_type": "code",
   "execution_count": 161,
   "metadata": {},
   "outputs": [
    {
     "name": "stdout",
     "output_type": "stream",
     "text": [
      "0 : seen acc:  0.6005875312806006  unseen acc:  0.3849361809680273  y data:  54.19428232268276   y_gt_ones:  45.66423675334567\n",
      "1 : seen acc:  0.32901751713632904  unseen acc:  0.5063819031972703  y data:  46.99277871203878   y_gt_ones:  32.140137090632145\n",
      "2 : seen acc:  0.7999129583287999  unseen acc:  0.6258056362947049  y data:  13.166485310119697   y_gt_ones:  5.973234686105973\n",
      "3 : seen acc:  0.44728538787944727  unseen acc:  0.48502464299254394  y data:  51.953704619645855   y_gt_ones:  90.83886410619084\n",
      "4 : seen acc:  0.6696768577956697  unseen acc:  0.5076456464046506  y data:  50.85567316252843   y_gt_ones:  51.35458600805135\n",
      "5 : seen acc:  0.7636818626917636  unseen acc:  0.7684822444079363  y data:  0.0   y_gt_ones:  23.63181373082363\n",
      "6 : seen acc:  0.9207920792079208  unseen acc:  1.0  y data:  0.0   y_gt_ones:  7.920792079207921\n",
      "7 : seen acc:  0.8366880644108367  unseen acc:  0.7066852015670416  y data:  6.90968443960827   y_gt_ones:  14.623000761614623\n",
      "8 : seen acc:  0.7592209770427593  unseen acc:  0.5709591810944016  y data:  24.814521713324762   y_gt_ones:  25.1006419323251\n",
      "9 : seen acc:  0.6467196170166467  unseen acc:  0.6680146594212056  y data:  18.493421703432585   y_gt_ones:  31.802850614731803\n",
      "10 : seen acc:  0.9626808834729627  unseen acc:  0.9830658410211045  y data:  6.899792264318924   y_gt_ones:  1.0880208900010881\n",
      "11 : seen acc:  0.6537917528016538  unseen acc:  0.4164033868317958  y data:  63.75506973983579   y_gt_ones:  100.0\n",
      "12 : seen acc:  0.6052660211076053  unseen acc:  0.43763427271578415  y data:  36.24493026016421   y_gt_ones:  23.425089761723424\n",
      "13 : seen acc:  0.3993036666303993  unseen acc:  0.5734866675091621  y data:  60.7775249777426   y_gt_ones:  34.72962680883473\n",
      "14 : seen acc:  0.32967032967032966  unseen acc:  0.6613168204220903  y data:  76.32802453259472   y_gt_ones:  35.58916331193559\n",
      "15 : seen acc:  0.27505168099227506  unseen acc:  0.6984708707190699  y data:  24.68097734691859   y_gt_ones:  64.4108366880644\n",
      "16 : seen acc:  0.39734522902839736  unseen acc:  0.32554025022115507  y data:  69.63102186170738   y_gt_ones:  36.78598629093678\n",
      "17 : seen acc:  0.5543466434555544  unseen acc:  0.3214962719575382  y data:  38.14917400336334   y_gt_ones:  54.73833097595474\n",
      "18 : seen acc:  0.654988575780655  unseen acc:  0.4129912801718691  y data:  23.810465921456128   y_gt_ones:  0.0\n",
      "19 : seen acc:  0.9225329126319225  unseen acc:  0.9938076582838368  y data:  5.13403897517064   y_gt_ones:  7.65966706560766\n",
      "20 : seen acc:  0.567946904580568  unseen acc:  0.39479337798559333  y data:  21.090117716885942   y_gt_ones:  32.4012621042324\n",
      "21 : seen acc:  0.612990969426613  unseen acc:  0.7481359787691141  y data:  17.054110198832724   y_gt_ones:  38.08073115003808\n",
      "22 : seen acc:  0.5064737242955065  unseen acc:  0.5063819031972703  y data:  43.46621822138688   y_gt_ones:  55.76107061255576\n",
      "23 : seen acc:  0.7013382656947014  unseen acc:  0.46429925439150765  y data:  20.145414976753386   y_gt_ones:  27.102600369927103\n",
      "24 : seen acc:  0.7846806658687847  unseen acc:  0.6256792619739668  y data:  8.121475912553171   y_gt_ones:  17.343052986617344\n",
      "25 : seen acc:  0.6938309215536939  unseen acc:  0.5661569569063566  y data:  59.66960134533584   y_gt_ones:  88.16233271678816\n",
      "26 : seen acc:  0.5323686214775324  unseen acc:  0.6925312776443827  y data:  68.20160253239688   y_gt_ones:  85.37699923838538\n",
      "27 : seen acc:  0.5582635186595583  unseen acc:  0.5611019840768355  y data:  38.787219309526165   y_gt_ones:  43.54259601784354\n",
      "28 : seen acc:  0.7652050919377652  unseen acc:  0.6218880323518261  y data:  29.567711939855574   y_gt_ones:  17.484495702317485\n",
      "29 : seen acc:  0.7801109781307801  unseen acc:  0.859345381018577  y data:  21.624295182510632   y_gt_ones:  0.0\n",
      "30 : seen acc:  0.6152758132956153  unseen acc:  0.7874383925186402  y data:  9.684439608269859   y_gt_ones:  32.4012621042324\n",
      "31 : seen acc:  0.6115765422696116  unseen acc:  0.6231517755592064  y data:  28.21743001285983   y_gt_ones:  57.83919051245784\n",
      "32 : seen acc:  0.9477749972799477  unseen acc:  0.8692025780361431  y data:  14.526659412404788   y_gt_ones:  0.0\n",
      "33 : seen acc:  0.5963442498095963  unseen acc:  0.29748515101731327  y data:  48.06113364328816   y_gt_ones:  43.738439778043734\n",
      "34 : seen acc:  0.8816233271678816  unseen acc:  0.951598635157336  y data:  0.0   y_gt_ones:  11.837667283211838\n",
      "35 : seen acc:  0.8311391578718311  unseen acc:  0.9934285353216227  y data:  3.4424770006924525   y_gt_ones:  16.3964748123164\n",
      "36 : seen acc:  0.5136546621695136  unseen acc:  0.43700240111209404  y data:  30.50252250469878   y_gt_ones:  0.0\n",
      "37 : seen acc:  0.8698727015558698  unseen acc:  0.956274485024643  y data:  8.774359481650015   y_gt_ones:  7.920792079207921\n",
      "38 : seen acc:  0.5692525296485692  unseen acc:  0.4637937571085555  y data:  71.30774557325155   y_gt_ones:  88.16233271678816\n",
      "39 : seen acc:  0.7743444674137744  unseen acc:  0.7209654998104386  y data:  77.14907508161045   y_gt_ones:  84.94179088238494\n",
      "40 : seen acc:  0.4634968991404635  unseen acc:  0.5225578162517377  y data:  47.72479968345039   y_gt_ones:  28.865194211728866\n",
      "41 : seen acc:  0.5250788815145251  unseen acc:  0.6930367749273347  y data:  73.47413196161835   y_gt_ones:  65.7926232183658\n",
      "42 : seen acc:  0.670982482863671  unseen acc:  0.7065588272463036  y data:  18.082896428924723   y_gt_ones:  25.731694048525732\n",
      "43 : seen acc:  0.5728429985855729  unseen acc:  0.5813218753949198  y data:  51.538233257493324   y_gt_ones:  72.05962354477205\n",
      "44 : seen acc:  0.6952453487106952  unseen acc:  0.8090484013648427  y data:  17.009595410030663   y_gt_ones:  27.973017081927974\n",
      "45 : seen acc:  0.5904689370035905  unseen acc:  0.4412991280171869  y data:  77.53486991789494   y_gt_ones:  88.16233271678816\n",
      "46 : seen acc:  0.763899466869764  unseen acc:  0.6189814229748515  y data:  61.76674250667722   y_gt_ones:  76.7054727450767\n",
      "47 : seen acc:  0.5653356544445653  unseen acc:  0.5637558448123341  y data:  51.29092887525967   y_gt_ones:  48.623653574148626\n",
      "48 : seen acc:  0.5100641932325101  unseen acc:  0.6922785290029067  y data:  21.243446433870808   y_gt_ones:  28.767272331628767\n",
      "49 : seen acc:  0.6375802415406375  unseen acc:  0.7298117022621003  y data:  18.77534869917895   y_gt_ones:  50.777934936350775\n",
      "50 : seen acc:  0.536938309215537  unseen acc:  0.5939593074687224  y data:  51.20684538530023   y_gt_ones:  77.1080404743771\n",
      "51 : seen acc:  0.4214992927864215  unseen acc:  0.32301276380639454  y data:  44.846176674250664   y_gt_ones:  13.894026765313894\n",
      "52 : seen acc:  0.5662060711565662  unseen acc:  0.6302287375205359  y data:  32.35730537145118   y_gt_ones:  43.54259601784354\n",
      "53 : seen acc:  0.8545316070068545  unseen acc:  0.9550107418172628  y data:  10.762686714808586   y_gt_ones:  0.0\n",
      "54 : seen acc:  0.5287781525405287  unseen acc:  0.25881460887147734  y data:  51.74102285092492   y_gt_ones:  68.29507126536829\n",
      "55 : seen acc:  0.867043847241867  unseen acc:  0.9152028307847845  y data:  3.734296171728163   y_gt_ones:  11.837667283211838\n",
      "56 : seen acc:  0.5164835164835165  unseen acc:  0.5268545431568306  y data:  41.74497972104066   y_gt_ones:  75.78065498857578\n",
      "57 : seen acc:  0.5186595582635186  unseen acc:  0.2684190572475673  y data:  38.866356711840936   y_gt_ones:  47.98172124904798\n",
      "58 : seen acc:  0.5412903927755413  unseen acc:  0.6244155187665866  y data:  25.655356612919185   y_gt_ones:  35.46948101403547\n",
      "59 : seen acc:  0.7672723316287673  unseen acc:  0.9489447744218374  y data:  8.759521218715996   y_gt_ones:  11.837667283211838\n",
      "60 : seen acc:  0.8853225981938854  unseen acc:  0.9581700998357133  y data:  6.548620041547136   y_gt_ones:  0.0\n",
      "61 : seen acc:  0.7507344141007507  unseen acc:  0.7322128143561228  y data:  12.998318330200812   y_gt_ones:  23.63181373082363\n",
      "62 : seen acc:  0.8497443150908497  unseen acc:  0.6945532667761911  y data:  68.91878524087447   y_gt_ones:  98.91197910999891\n",
      "63 : seen acc:  0.7385485801327385  unseen acc:  0.772147099709339  y data:  80.33930161242458   y_gt_ones:  92.07920792079209\n",
      "64 : seen acc:  0.6325753454466325  unseen acc:  0.7413117654492607  y data:  18.107626867148085   y_gt_ones:  7.833750408007834\n",
      "65 : seen acc:  0.5773038842345773  unseen acc:  0.45835966131682043  y data:  21.055495103373232   y_gt_ones:  0.0\n",
      "66 : seen acc:  0.9934718746599934  unseen acc:  0.9598129660053077  y data:  3.526560490651894   y_gt_ones:  0.0\n",
      "67 : seen acc:  0.8098139484278098  unseen acc:  0.616580310880829  y data:  30.00791374023148   y_gt_ones:  10.575563050810576\n",
      "68 : seen acc:  0.48634533783048634  unseen acc:  0.3266776191077973  y data:  30.75477297457711   y_gt_ones:  56.03307583505603\n",
      "69 : seen acc:  0.5246436731585247  unseen acc:  0.6303551118412739  y data:  35.65634583044812   y_gt_ones:  68.94788379936895\n",
      "70 : seen acc:  0.5429224241105429  unseen acc:  0.3960571211929736  y data:  26.095558413295084   y_gt_ones:  48.24284626264824\n",
      "71 : seen acc:  0.746926340985747  unseen acc:  0.7351194237330975  y data:  31.610446137105548   y_gt_ones:  20.585355238820586\n",
      "72 : seen acc:  0.6447611794146447  unseen acc:  0.6399595602173638  y data:  15.367494311999208   y_gt_ones:  43.80372103144381\n",
      "73 : seen acc:  0.5733870090305734  unseen acc:  0.38619992417540755  y data:  24.725492135720646   y_gt_ones:  0.0\n",
      "74 : seen acc:  0.5502121640735502  unseen acc:  0.42550233792493364  y data:  76.18953407854387   y_gt_ones:  80.50266565118051\n",
      "75 : seen acc:  0.5136546621695136  unseen acc:  0.43700240111209404  y data:  30.50252250469878   y_gt_ones:  0.0\n",
      "76 : seen acc:  0.5610923729735611  unseen acc:  0.8354606343990901  y data:  14.3040854683945   y_gt_ones:  42.5960178435426\n",
      "77 : seen acc:  0.8518115547818518  unseen acc:  0.8316694047769493  y data:  5.173607676328024   y_gt_ones:  26.460668044826463\n",
      "78 : seen acc:  0.6156022195626156  unseen acc:  0.611146215089094  y data:  37.748540904144825   y_gt_ones:  35.46948101403547\n",
      "79 : seen acc:  0.6346425851376346  unseen acc:  0.6297232402375837  y data:  65.1647047185676   y_gt_ones:  64.53051898596453\n",
      "80 : seen acc:  0.6224567511696224  unseen acc:  0.5149753570074561  y data:  69.89316450687507   y_gt_ones:  60.71156566206071\n",
      "81 : seen acc:  0.42334892829942333  unseen acc:  0.742575508656641  y data:  71.43139776436838   y_gt_ones:  45.598955499945596\n",
      "82 : seen acc:  0.4198672614514199  unseen acc:  0.606975862504739  y data:  46.83944999505391   y_gt_ones:  65.42269611576542\n",
      "83 : seen acc:  0.4667609618104668  unseen acc:  0.7157841526601795  y data:  37.916707884063705   y_gt_ones:  54.41192470895441\n",
      "84 : seen acc:  0.5396583614405397  unseen acc:  0.548338177682295  y data:  35.07270748837669   y_gt_ones:  31.05211620063105\n"
     ]
    }
   ],
   "source": [
    "vis_test_accuracies = []\n",
    "vis_unseen_accuracies = []\n",
    "for i in range(85):\n",
    "    att_ind = i\n",
    "    y = []\n",
    "    for t in train_labels:\n",
    "        y.append(bin_atts['att'][att_ind,t].item())\n",
    "    y_gt = []\n",
    "    for t in val_labels:\n",
    "        y_gt.append(bin_atts['att'][att_ind,t].item())\n",
    "    \n",
    "    y_test = []\n",
    "    for t in test_labels:\n",
    "        y_test.append(bin_atts['att'][att_ind,t-1].item())\n",
    "    \n",
    "    y_ones = y.count(1)/len(y)*100\n",
    "    y_gt_ones = y_gt.count(1)/len(y_gt)*100\n",
    "    \n",
    "    clf = MLPClassifier(solver='lbfgs', alpha=1e-5,\n",
    "                        hidden_layer_sizes=(5, ), random_state=1)\n",
    "\n",
    "    clf.fit(train_feats.transpose(), y)\n",
    "    #y_predict = clf.predict(val_feats.transpose())\n",
    "    acc = clf.score(val_feats.transpose(), y_gt)\n",
    "    vis_test_accuracies.append(acc)\n",
    "    \n",
    "    unseen_acc = clf.score(test_feats.transpose(), y_test)\n",
    "    vis_unseen_accuracies.append(unseen_acc)\n",
    "    \n",
    "    print(i, \": seen acc: \", acc,\" unseen acc: \", unseen_acc ,\" y data: \", y_ones, \"  y_gt_ones: \", y_gt_ones)"
   ]
  },
  {
   "cell_type": "code",
   "execution_count": 162,
   "metadata": {},
   "outputs": [
    {
     "data": {
      "text/plain": [
       "(0.6298704291523257, 0.6389639481078037)"
      ]
     },
     "execution_count": 162,
     "metadata": {},
     "output_type": "execute_result"
    }
   ],
   "source": [
    "import numpy as np \n",
    "\n",
    "np.mean(vis_unseen_accuracies), np.mean(vis_test_accuracies)"
   ]
  },
  {
   "cell_type": "code",
   "execution_count": 166,
   "metadata": {},
   "outputs": [],
   "source": [
    "from sklearn.linear_model import LogisticRegression\n",
    "from sklearn import metrics\n",
    "import warnings\n",
    "\n",
    "def log_reg(train_feats, val_feats, y, y_gt):\n",
    "    \n",
    "    with warnings.catch_warnings():\n",
    "        warnings.simplefilter(\"ignore\")\n",
    "    \n",
    "        logistic_regression_model = LogisticRegression(solver='lbfgs', max_iter = 200)\n",
    "        logistic_regression_model.fit(train_feats.transpose(), y)\n",
    "    \n",
    "    accuracy_score = logistic_regression_model.score(val_feats.transpose(), y_gt)\n",
    "    return accuracy_score"
   ]
  },
  {
   "cell_type": "code",
   "execution_count": 188,
   "metadata": {},
   "outputs": [
    {
     "name": "stdout",
     "output_type": "stream",
     "text": [
      "0 : seen acc:  0.6100533130236101  unseen acc:  0.40414507772020725  y data:  54.19428232268276   y_gt_ones:  45.66423675334567\n",
      "1 : seen acc:  0.3662278315743662  unseen acc:  0.4669531151270062  y data:  46.99277871203878   y_gt_ones:  32.140137090632145\n",
      "2 : seen acc:  0.7723860298117724  unseen acc:  0.6180968027296854  y data:  13.166485310119697   y_gt_ones:  5.973234686105973\n",
      "3 : seen acc:  0.4148623653574149  unseen acc:  0.5068874004802224  y data:  51.953704619645855   y_gt_ones:  90.83886410619084\n",
      "4 : seen acc:  0.582961592862583  unseen acc:  0.553266776191078  y data:  50.85567316252843   y_gt_ones:  51.35458600805135\n",
      "7 : seen acc:  0.8396257208138396  unseen acc:  0.7109819284721345  y data:  6.90968443960827   y_gt_ones:  14.623000761614623\n",
      "8 : seen acc:  0.75998259166576  unseen acc:  0.5856186023000126  y data:  24.814521713324762   y_gt_ones:  25.1006419323251\n",
      "9 : seen acc:  0.6557501904036558  unseen acc:  0.6469101478579553  y data:  18.493421703432585   y_gt_ones:  31.802850614731803\n",
      "10 : seen acc:  0.9652921336089653  unseen acc:  0.9872361936054593  y data:  6.899792264318924   y_gt_ones:  1.0880208900010881\n",
      "11 : seen acc:  0.635948210205636  unseen acc:  0.45456843169467964  y data:  63.75506973983579   y_gt_ones:  100.0\n",
      "12 : seen acc:  0.6343161788706343  unseen acc:  0.4819916592948313  y data:  36.24493026016421   y_gt_ones:  23.425089761723424\n",
      "13 : seen acc:  0.3965836144053966  unseen acc:  0.5833438645267282  y data:  60.7775249777426   y_gt_ones:  34.72962680883473\n",
      "14 : seen acc:  0.32074855837232075  unseen acc:  0.6614431947428283  y data:  76.32802453259472   y_gt_ones:  35.58916331193559\n",
      "15 : seen acc:  0.261995430312262  unseen acc:  0.6911411601162644  y data:  24.68097734691859   y_gt_ones:  64.4108366880644\n",
      "16 : seen acc:  0.3988684582743989  unseen acc:  0.37166687729053455  y data:  69.63102186170738   y_gt_ones:  36.78598629093678\n",
      "17 : seen acc:  0.5434664345555434  unseen acc:  0.383293314798433  y data:  38.14917400336334   y_gt_ones:  54.73833097595474\n",
      "18 : seen acc:  0.6837123272766837  unseen acc:  0.465815746240364  y data:  23.810465921456128   y_gt_ones:  0.0\n",
      "19 : seen acc:  0.9224241105429224  unseen acc:  0.9973461392645014  y data:  5.13403897517064   y_gt_ones:  7.65966706560766\n",
      "20 : seen acc:  0.5615275813295615  unseen acc:  0.3888537849109061  y data:  21.090117716885942   y_gt_ones:  32.4012621042324\n",
      "21 : seen acc:  0.6121205527146121  unseen acc:  0.7284215847339821  y data:  17.054110198832724   y_gt_ones:  38.08073115003808\n",
      "22 : seen acc:  0.4691546077684692  unseen acc:  0.5713383040566157  y data:  43.46621822138688   y_gt_ones:  55.76107061255576\n",
      "23 : seen acc:  0.6974213904906974  unseen acc:  0.5056236572728422  y data:  20.145414976753386   y_gt_ones:  27.102600369927103\n",
      "24 : seen acc:  0.7908823849417909  unseen acc:  0.6271957538228232  y data:  8.121475912553171   y_gt_ones:  17.343052986617344\n",
      "25 : seen acc:  0.6977477967576977  unseen acc:  0.5758877796031846  y data:  59.66960134533584   y_gt_ones:  88.16233271678816\n",
      "26 : seen acc:  0.434990751822435  unseen acc:  0.6642234297990648  y data:  68.20160253239688   y_gt_ones:  85.37699923838538\n",
      "27 : seen acc:  0.5498857578065499  unseen acc:  0.5953494249968406  y data:  38.787219309526165   y_gt_ones:  43.54259601784354\n",
      "28 : seen acc:  0.766945925361767  unseen acc:  0.6418551750284343  y data:  29.567711939855574   y_gt_ones:  17.484495702317485\n",
      "29 : seen acc:  0.7870743118267871  unseen acc:  0.8520156704157715  y data:  21.624295182510632   y_gt_ones:  0.0\n",
      "30 : seen acc:  0.6298552932216298  unseen acc:  0.8007076961961329  y data:  9.684439608269859   y_gt_ones:  32.4012621042324\n",
      "31 : seen acc:  0.587966488956588  unseen acc:  0.63123973208644  y data:  28.21743001285983   y_gt_ones:  57.83919051245784\n",
      "32 : seen acc:  0.9416820802959417  unseen acc:  0.8790597750537091  y data:  14.526659412404788   y_gt_ones:  0.0\n",
      "33 : seen acc:  0.6148406049396148  unseen acc:  0.28408947301908255  y data:  48.06113364328816   y_gt_ones:  43.738439778043734\n",
      "35 : seen acc:  0.8345120226308345  unseen acc:  0.9948186528497409  y data:  3.4424770006924525   y_gt_ones:  16.3964748123164\n",
      "36 : seen acc:  0.5521706016755522  unseen acc:  0.45557942626058384  y data:  30.50252250469878   y_gt_ones:  0.0\n",
      "37 : seen acc:  0.8846697856598846  unseen acc:  0.9543788702135726  y data:  8.774359481650015   y_gt_ones:  7.920792079207921\n",
      "38 : seen acc:  0.5476009139375476  unseen acc:  0.45077720207253885  y data:  71.30774557325155   y_gt_ones:  88.16233271678816\n",
      "39 : seen acc:  0.7731476444347731  unseen acc:  0.7109819284721345  y data:  77.14907508161045   y_gt_ones:  84.94179088238494\n",
      "40 : seen acc:  0.49951039059949953  unseen acc:  0.5489700492859851  y data:  47.72479968345039   y_gt_ones:  28.865194211728866\n",
      "41 : seen acc:  0.5124578391905125  unseen acc:  0.684569695437887  y data:  73.47413196161835   y_gt_ones:  65.7926232183658\n",
      "42 : seen acc:  0.6715264933086715  unseen acc:  0.7239984835081511  y data:  18.082896428924723   y_gt_ones:  25.731694048525732\n",
      "43 : seen acc:  0.5452072679795452  unseen acc:  0.5819537469986099  y data:  51.538233257493324   y_gt_ones:  72.05962354477205\n",
      "44 : seen acc:  0.6986182134696987  unseen acc:  0.8257298117022621  y data:  17.009595410030663   y_gt_ones:  27.973017081927974\n",
      "45 : seen acc:  0.5987378957675987  unseen acc:  0.4267660811323139  y data:  77.53486991789494   y_gt_ones:  88.16233271678816\n",
      "46 : seen acc:  0.7467087368077467  unseen acc:  0.6045747504107165  y data:  61.76674250667722   y_gt_ones:  76.7054727450767\n",
      "47 : seen acc:  0.5695789359155696  unseen acc:  0.5926955642613421  y data:  51.29092887525967   y_gt_ones:  48.623653574148626\n",
      "48 : seen acc:  0.5121314329235122  unseen acc:  0.7317073170731707  y data:  21.243446433870808   y_gt_ones:  28.767272331628767\n",
      "49 : seen acc:  0.6135349798716135  unseen acc:  0.7782130671047643  y data:  18.77534869917895   y_gt_ones:  50.777934936350775\n"
     ]
    }
   ],
   "source": [
    "all_test_accuracies = []\n",
    "all_unseen_accuracies = []\n",
    "for i in range(85):\n",
    "    att_ind = i\n",
    "    y = []\n",
    "    for t in train_labels:\n",
    "        y.append(bin_atts['att'][att_ind,t].item())\n",
    "    y_gt = []\n",
    "    for t in val_labels:\n",
    "        y_gt.append(bin_atts['att'][att_ind,t].item())\n",
    "    \n",
    "    y_test = []\n",
    "    for t in test_labels:\n",
    "        y_test.append(bin_atts['att'][att_ind,t-1].item())\n",
    "    \n",
    "    y_ones = y.count(1)/len(y)*100\n",
    "    y_gt_ones = y_gt.count(1)/len(y_gt)*100\n",
    "    \n",
    "    if int(y_ones) is not 0:\n",
    "        with warnings.catch_warnings():\n",
    "            warnings.simplefilter(\"ignore\")\n",
    "\n",
    "            logistic_regression_model = LogisticRegression(solver='lbfgs', max_iter = 200)\n",
    "            logistic_regression_model.fit(train_feats.transpose(), y)\n",
    "\n",
    "        acc = logistic_regression_model.score(val_feats.transpose(), y_gt)\n",
    "        all_test_accuracies.append(acc)\n",
    "\n",
    "        unseen_acc = logistic_regression_model.score(test_feats.transpose(), y_test)\n",
    "        all_unseen_accuracies.append(unseen_acc)\n",
    "\n",
    "        print(i, \": seen acc: \", acc,\" unseen acc: \", unseen_acc ,\" y data: \", y_ones, \"  y_gt_ones: \", y_gt_ones)    "
   ]
  },
  {
   "cell_type": "code",
   "execution_count": 189,
   "metadata": {},
   "outputs": [
    {
     "data": {
      "text/plain": [
       "(0.6251549429836708, 0.6269662505179674)"
      ]
     },
     "execution_count": 189,
     "metadata": {},
     "output_type": "execute_result"
    }
   ],
   "source": [
    "np.mean(all_unseen_accuracies), np.mean(all_test_accuracies)"
   ]
  },
  {
   "cell_type": "markdown",
   "metadata": {},
   "source": [
    "## GLOVE EMBEDDINGS"
   ]
  },
  {
   "cell_type": "code",
   "execution_count": 7,
   "metadata": {},
   "outputs": [],
   "source": [
    "import numpy as np\n",
    "\n",
    "def loadGloveModel():\n",
    "    print(\"Loading Glove Model\")\n",
    "    gloveFile = '../../guided_research/glove.6B.300d.txt'\n",
    "    f = open(gloveFile, 'r')\n",
    "    model = {}\n",
    "    for line in f:\n",
    "        splitLine = line.split()\n",
    "        word = splitLine[0]\n",
    "        embedding = np.array([float(val) for val in splitLine[1:]], dtype=np.float32)\n",
    "        model[word] = embedding\n",
    "    print(\"Done.\", len(model), \" words loaded!\")\n",
    "    return model"
   ]
  },
  {
   "cell_type": "code",
   "execution_count": 8,
   "metadata": {},
   "outputs": [
    {
     "name": "stdout",
     "output_type": "stream",
     "text": [
      "Loading Glove Model\n",
      "Done. 400000  words loaded!\n"
     ]
    }
   ],
   "source": [
    "glove_model = loadGloveModel()"
   ]
  },
  {
   "cell_type": "code",
   "execution_count": 10,
   "metadata": {},
   "outputs": [
    {
     "data": {
      "text/plain": [
       "(300,)"
      ]
     },
     "execution_count": 10,
     "metadata": {},
     "output_type": "execute_result"
    }
   ],
   "source": [
    "glove_model['cat']"
   ]
  },
  {
   "cell_type": "code",
   "execution_count": 61,
   "metadata": {},
   "outputs": [
    {
     "data": {
      "text/plain": [
       "['antelope',\n",
       " 'grizzly+bear',\n",
       " 'killer+whale',\n",
       " 'beaver',\n",
       " 'dalmatian',\n",
       " 'persian+cat',\n",
       " 'horse',\n",
       " 'german+shepherd']"
      ]
     },
     "execution_count": 61,
     "metadata": {},
     "output_type": "execute_result"
    }
   ],
   "source": [
    "class_names[:8]"
   ]
  },
  {
   "cell_type": "code",
   "execution_count": 66,
   "metadata": {},
   "outputs": [],
   "source": [
    "class_embeddings = {}\n",
    "\n",
    "for i, v in enumerate(class_names):\n",
    "    words = v.split('+')\n",
    "    embs = []\n",
    "    for w in words:\n",
    "        emb = glove_model[w]\n",
    "        embs.append(emb)\n",
    "    embs = np.mean(embs, axis=0)\n",
    "    class_embeddings[(i+1)] = embs\n",
    "    "
   ]
  },
  {
   "cell_type": "code",
   "execution_count": 84,
   "metadata": {},
   "outputs": [],
   "source": [
    "y = []\n",
    "train_emb = []\n",
    "for t in train_labels:\n",
    "    y.append(bin_atts['att'][1,t].item())\n",
    "    train_emb.append(class_embeddings[t[0]])"
   ]
  },
  {
   "cell_type": "code",
   "execution_count": 91,
   "metadata": {},
   "outputs": [
    {
     "data": {
      "text/plain": [
       "(20218, 20218, 300)"
      ]
     },
     "execution_count": 91,
     "metadata": {},
     "output_type": "execute_result"
    }
   ],
   "source": [
    "len(train_emb), len(y), len(train_emb[0])"
   ]
  },
  {
   "cell_type": "code",
   "execution_count": 94,
   "metadata": {},
   "outputs": [],
   "source": [
    "train_emb = []\n",
    "for t in train_labels:\n",
    "    train_emb.append(class_embeddings[t[0]])\n",
    "\n",
    "val_emb = []\n",
    "for t in val_labels:\n",
    "    val_emb.append(class_embeddings[t[0]])\n",
    "\n",
    "test_emb = []\n",
    "for t in test_labels:\n",
    "    test_emb.append(class_embeddings[t[0]])"
   ]
  },
  {
   "cell_type": "code",
   "execution_count": 133,
   "metadata": {},
   "outputs": [
    {
     "name": "stdout",
     "output_type": "stream",
     "text": [
      "0 : seen acc:  0.7326732673267327  unseen acc:  0.16870971818526476\n",
      "1 : seen acc:  0.4883037754324883  unseen acc:  0.45734866675091623\n",
      "2 : seen acc:  0.9402676531389402  unseen acc:  0.8584607607734108\n",
      "3 : seen acc:  0.39397236426939397  unseen acc:  0.5849867306963225\n",
      "4 : seen acc:  0.4510934609944511  unseen acc:  0.4329584228484772\n",
      "5 : seen acc:  0.7636818626917636  unseen acc:  0.7684822444079363\n",
      "6 : seen acc:  0.9207920792079208  unseen acc:  1.0\n",
      "7 : seen acc:  0.8537699923838538  unseen acc:  0.7684822444079363\n",
      "8 : seen acc:  0.5952562289195953  unseen acc:  0.6853279413623152\n",
      "9 : seen acc:  0.681971493852682  unseen acc:  0.7735372172374574\n",
      "10 : seen acc:  0.9891197910999892  unseen acc:  1.0\n",
      "11 : seen acc:  1.0  unseen acc:  0.8480980664728927\n",
      "12 : seen acc:  0.7657491023827657  unseen acc:  0.6580310880829016\n",
      "13 : seen acc:  0.4645849200304646  unseen acc:  0.7813724251232149\n",
      "14 : seen acc:  0.3558916331193559  unseen acc:  0.6533552382155946\n",
      "15 : seen acc:  0.16592318572516593  unseen acc:  0.7875647668393783\n",
      "16 : seen acc:  0.44706778370144706  unseen acc:  0.57298117022621\n",
      "17 : seen acc:  0.8383200957458383  unseen acc:  0.47352457980538354\n",
      "18 : seen acc:  1.0  unseen acc:  0.5269809174775686\n",
      "19 : seen acc:  0.9234033293439234  unseen acc:  1.0\n",
      "20 : seen acc:  0.7106952453487106  unseen acc:  0.41235940856817893\n",
      "21 : seen acc:  0.5172451311065173  unseen acc:  0.8812081385062556\n",
      "22 : seen acc:  0.5427048199325427  unseen acc:  0.7684822444079363\n",
      "23 : seen acc:  0.6692416494396692  unseen acc:  0.47150259067357514\n",
      "24 : seen acc:  0.8265694701338265  unseen acc:  0.6402123088588398\n",
      "25 : seen acc:  0.7435534762267435  unseen acc:  0.5890307089599394\n",
      "26 : seen acc:  0.27363725383527365  unseen acc:  0.7384051560722861\n",
      "27 : seen acc:  0.5137634642585137  unseen acc:  0.456211297864274\n",
      "28 : seen acc:  0.7662931128277662  unseen acc:  0.3746998609882472\n",
      "29 : seen acc:  0.9049069742139049  unseen acc:  0.7775811955010742\n",
      "30 : seen acc:  0.675987378957676  unseen acc:  0.8480980664728927\n",
      "31 : seen acc:  0.6617343052986617  unseen acc:  0.5930746872235562\n",
      "32 : seen acc:  0.9402676531389402  unseen acc:  0.9728295210413244\n",
      "33 : seen acc:  0.6181046676096181  unseen acc:  0.296221407809933\n",
      "34 : seen acc:  0.8816233271678816  unseen acc:  0.951598635157336\n",
      "35 : seen acc:  0.836035251876836  unseen acc:  1.0\n",
      "36 : seen acc:  0.9049069742139049  unseen acc:  0.44395298875268546\n",
      "37 : seen acc:  0.7763029050157763  unseen acc:  0.8812081385062556\n",
      "38 : seen acc:  0.5433576324665433  unseen acc:  0.4785795526349046\n",
      "39 : seen acc:  0.8494179088238494  unseen acc:  0.820548464552003\n",
      "40 : seen acc:  0.7884887389837885  unseen acc:  0.34866675091621385\n",
      "41 : seen acc:  0.6225655532586226  unseen acc:  0.732971060280551\n",
      "42 : seen acc:  0.7426830595147427  unseen acc:  0.772147099709339\n",
      "43 : seen acc:  0.5258404961375258  unseen acc:  0.39782636168330593\n",
      "44 : seen acc:  0.7581329561527581  unseen acc:  0.5250853026664982\n",
      "45 : seen acc:  0.8816233271678816  unseen acc:  0.4785795526349046\n",
      "46 : seen acc:  0.8243934283538243  unseen acc:  0.6254265133324909\n",
      "47 : seen acc:  0.4181264280274181  unseen acc:  0.49462909136863387\n",
      "48 : seen acc:  0.467957784789468  unseen acc:  0.7605206622014407\n",
      "49 : seen acc:  0.38624741595038625  unseen acc:  0.5883988373562492\n",
      "50 : seen acc:  0.6713088891306713  unseen acc:  0.5458106912675345\n",
      "51 : seen acc:  0.2325100641932325  unseen acc:  0.16719322633640843\n",
      "52 : seen acc:  0.5985202915895985  unseen acc:  0.42904081890559836\n",
      "53 : seen acc:  0.9152431726689152  unseen acc:  0.9296095033489195\n",
      "54 : seen acc:  0.4692634098574693  unseen acc:  0.47112346771136104\n",
      "55 : seen acc:  0.8816233271678816  unseen acc:  0.912422595728548\n",
      "56 : seen acc:  0.5835056033075835  unseen acc:  0.7200808795652723\n",
      "57 : seen acc:  0.5734958111195735  unseen acc:  0.34310628080374067\n",
      "58 : seen acc:  0.5116962245675117  unseen acc:  0.5013269303677492\n",
      "59 : seen acc:  0.8218909803068218  unseen acc:  0.912422595728548\n",
      "60 : seen acc:  1.0  unseen acc:  0.9780108681915834\n",
      "61 : seen acc:  0.5116962245675117  unseen acc:  0.5498546695311513\n",
      "62 : seen acc:  0.492003046458492  unseen acc:  0.29824339694174146\n",
      "63 : seen acc:  0.7535632684147535  unseen acc:  0.9728295210413244\n",
      "64 : seen acc:  0.8619301490588619  unseen acc:  0.8259825603437382\n",
      "65 : seen acc:  0.9152431726689152  unseen acc:  0.509794009857197\n",
      "66 : seen acc:  1.0  unseen acc:  1.0\n",
      "67 : seen acc:  0.6814274834076814  unseen acc:  0.8532794136231517\n",
      "68 : seen acc:  0.4761179414644761  unseen acc:  0.5250853026664982\n",
      "69 : seen acc:  0.319007724948319  unseen acc:  0.47301908252243147\n",
      "70 : seen acc:  0.5361766945925361  unseen acc:  0.6294704915961077\n",
      "71 : seen acc:  0.5353062778805353  unseen acc:  0.7725262226715531\n",
      "72 : seen acc:  0.5510825807855511  unseen acc:  0.6925312776443827\n",
      "73 : seen acc:  0.9152431726689152  unseen acc:  0.5269809174775686\n",
      "74 : seen acc:  0.545968882602546  unseen acc:  0.6580310880829016\n",
      "75 : seen acc:  0.9049069742139049  unseen acc:  0.44395298875268546\n",
      "76 : seen acc:  0.49483190077249484  unseen acc:  0.7200808795652723\n",
      "77 : seen acc:  0.7353933195517354  unseen acc:  0.8719828130923797\n",
      "78 : seen acc:  0.44891741921444894  unseen acc:  0.5930746872235562\n",
      "79 : seen acc:  0.44891741921444894  unseen acc:  0.6414760520662202\n",
      "80 : seen acc:  0.4634968991404635  unseen acc:  0.5014533046884873\n",
      "81 : seen acc:  0.5296485692525297  unseen acc:  0.951598635157336\n",
      "82 : seen acc:  0.5002720052225003  unseen acc:  0.8480980664728927\n",
      "83 : seen acc:  0.4661081492764661  unseen acc:  0.6809048401364842\n",
      "84 : seen acc:  0.516048308127516  unseen acc:  0.6036901301655504\n"
     ]
    }
   ],
   "source": [
    "word_test_accuracies = []\n",
    "word_unseen_accuracies = []\n",
    "for i in range(85):\n",
    "    att_ind = i\n",
    "    y = []\n",
    "    for t in train_labels:\n",
    "        y.append(bin_atts['att'][att_ind,t].item())\n",
    "        \n",
    "    y_gt = []\n",
    "    for t in val_labels:\n",
    "        y_gt.append(bin_atts['att'][att_ind,t].item())\n",
    "        \n",
    "    y_test = []\n",
    "    for t in test_labels:\n",
    "        y_test.append(bin_atts['att'][att_ind,t-1].item())\n",
    "    \n",
    "    clf = MLPClassifier(solver='lbfgs', alpha=1e-5,\n",
    "                        hidden_layer_sizes=(5, ), random_state=1)\n",
    "\n",
    "    clf.fit(train_emb, y)\n",
    "    #y_predict = clf.predict(val_feats.transpose())\n",
    "    acc = clf.score(val_emb, y_gt)\n",
    "    word_test_accuracies.append(acc)\n",
    "    \n",
    "    unseen_acc = clf.score(test_emb, y_test)\n",
    "    word_unseen_accuracies.append(unseen_acc)\n",
    "    \n",
    "    print(i, \": seen acc: \", acc,\" unseen acc: \", unseen_acc)"
   ]
  },
  {
   "cell_type": "code",
   "execution_count": 137,
   "metadata": {},
   "outputs": [
    {
     "data": {
      "text/plain": [
       "(0.6612542960824848, 0.658521717798708)"
      ]
     },
     "execution_count": 137,
     "metadata": {},
     "output_type": "execute_result"
    }
   ],
   "source": [
    "np.mean(word_test_accuracies), np.mean(word_unseen_accuracies)"
   ]
  },
  {
   "cell_type": "code",
   "execution_count": 163,
   "metadata": {},
   "outputs": [
    {
     "data": {
      "text/plain": [
       "(0.022290347974681112, 36, 62)"
      ]
     },
     "execution_count": 163,
     "metadata": {},
     "output_type": "execute_result"
    }
   ],
   "source": [
    "diff_test = [x1 - x2 for (x1, x2) in zip(word_test_accuracies, vis_test_accuracies)]\n",
    "np.mean(diff_test), np.argmax(diff_test), np.argmin(diff_test)"
   ]
  },
  {
   "cell_type": "code",
   "execution_count": 164,
   "metadata": {},
   "outputs": [
    {
     "data": {
      "text/plain": [
       "(0.02865128864638235, 11, 62)"
      ]
     },
     "execution_count": 164,
     "metadata": {},
     "output_type": "execute_result"
    }
   ],
   "source": [
    "diff_unseen = [x1 - x2 for (x1, x2) in zip(word_unseen_accuracies, vis_unseen_accuracies)]\n",
    "np.mean(diff_unseen), np.argmax(diff_unseen), np.argmin(diff_unseen)"
   ]
  },
  {
   "cell_type": "code",
   "execution_count": 47,
   "metadata": {},
   "outputs": [],
   "source": []
  },
  {
   "cell_type": "code",
   "execution_count": 48,
   "metadata": {},
   "outputs": [
    {
     "data": {
      "text/plain": [
       "'bipedal'"
      ]
     },
     "execution_count": 48,
     "metadata": {},
     "output_type": "execute_result"
    }
   ],
   "source": []
  },
  {
   "cell_type": "code",
   "execution_count": 165,
   "metadata": {},
   "outputs": [
    {
     "data": {
      "text/plain": [
       "(85, 85)"
      ]
     },
     "execution_count": 165,
     "metadata": {},
     "output_type": "execute_result"
    }
   ],
   "source": [
    "len(diff_test), len(preds)"
   ]
  },
  {
   "cell_type": "code",
   "execution_count": 46,
   "metadata": {},
   "outputs": [
    {
     "name": "stdout",
     "output_type": "stream",
     "text": [
      "     1\tblack\n",
      "     2\twhite\n",
      "     3\tblue\n",
      "     4\tbrown\n",
      "     5\tgray\n",
      "     6\torange\n",
      "     7\tred\n",
      "     8\tyellow\n",
      "     9\tpatches\n",
      "    10\tspots\n",
      "    11\tstripes\n",
      "    12\tfurry\n",
      "    13\thairless\n",
      "    14\ttoughskin\n",
      "    15\tbig\n",
      "    16\tsmall\n",
      "    17\tbulbous\n",
      "    18\tlean\n",
      "    19\tflippers\n",
      "    20\thands\n",
      "    21\thooves\n",
      "    22\tpads\n",
      "    23\tpaws\n",
      "    24\tlongleg\n",
      "    25\tlongneck\n",
      "    26\ttail\n",
      "    27\tchewteeth\n",
      "    28\tmeatteeth\n",
      "    29\tbuckteeth\n",
      "    30\tstrainteeth\n",
      "    31\thorns\n",
      "    32\tclaws\n",
      "    33\ttusks\n",
      "    34\tsmelly\n",
      "    35\tflys\n",
      "    36\thops\n",
      "    37\tswims\n",
      "    38\ttunnels\n",
      "    39\twalks\n",
      "    40\tfast\n",
      "    41\tslow\n",
      "    42\tstrong\n",
      "    43\tweak\n",
      "    44\tmuscle\n",
      "    45\tbipedal\n",
      "    46\tquadrapedal\n",
      "    47\tactive\n",
      "    48\tinactive\n",
      "    49\tnocturnal\n",
      "    50\thibernate\n",
      "    51\tagility\n",
      "    52\tfish\n",
      "    53\tmeat\n",
      "    54\tplankton\n",
      "    55\tvegetation\n",
      "    56\tinsects\n",
      "    57\tforager\n",
      "    58\tgrazer\n",
      "    59\thunter\n",
      "    60\tscavenger\n",
      "    61\tskimmer\n",
      "    62\tstalker\n",
      "    63\tnewworld\n",
      "    64\toldworld\n",
      "    65\tarctic\n",
      "    66\tcoastal\n",
      "    67\tdesert\n",
      "    68\tbush\n",
      "    69\tplains\n",
      "    70\tforest\n",
      "    71\tfields\n",
      "    72\tjungle\n",
      "    73\tmountains\n",
      "    74\tocean\n",
      "    75\tground\n",
      "    76\twater\n",
      "    77\ttree\n",
      "    78\tcave\n",
      "    79\tfierce\n",
      "    80\ttimid\n",
      "    81\tsmart\n",
      "    82\tgroup\n",
      "    83\tsolitary\n",
      "    84\tnestspot\n",
      "    85\tdomestic\n",
      "\n"
     ]
    }
   ],
   "source": [
    "print(predicates)"
   ]
  },
  {
   "cell_type": "code",
   "execution_count": 188,
   "metadata": {},
   "outputs": [
    {
     "data": {
      "image/png": "[encoded data removed]",
      "text/plain": [
       "<Figure size 432x288 with 1 Axes>"
      ]
     },
     "metadata": {
      "needs_background": "light"
     },
     "output_type": "display_data"
    }
   ],
   "source": [
    "plt.bar(range(85), diff_test)\n",
    "plt.show()"
   ]
  },
  {
   "cell_type": "code",
   "execution_count": 187,
   "metadata": {},
   "outputs": [
    {
     "data": {
      "image/png": "[encoded data removed]",
      "text/plain": [
       "<Figure size 432x288 with 1 Axes>"
      ]
     },
     "metadata": {
      "needs_background": "light"
     },
     "output_type": "display_data"
    }
   ],
   "source": [
    "plt.bar(range(85), diff_unseen)\n",
    "plt.show()"
   ]
  },
  {
   "cell_type": "code",
   "execution_count": 45,
   "metadata": {},
   "outputs": [
    {
     "ename": "NameError",
     "evalue": "name 'diff_test' is not defined",
     "output_type": "error",
     "traceback": [
      "\u001b[0;31m---------------------------------------------------------------------------\u001b[0m",
      "\u001b[0;31mNameError\u001b[0m                                 Traceback (most recent call last)",
      "\u001b[0;32m<ipython-input-45-4006e79089fd>\u001b[0m in \u001b[0;36m<module>\u001b[0;34m\u001b[0m\n\u001b[0;32m----> 1\u001b[0;31m \u001b[0mbest_ind\u001b[0m \u001b[0;34m=\u001b[0m \u001b[0mnp\u001b[0m\u001b[0;34m.\u001b[0m\u001b[0marray\u001b[0m\u001b[0;34m(\u001b[0m\u001b[0mdiff_test\u001b[0m\u001b[0;34m)\u001b[0m\u001b[0;34m.\u001b[0m\u001b[0margsort\u001b[0m\u001b[0;34m(\u001b[0m\u001b[0;34m)\u001b[0m\u001b[0;34m[\u001b[0m\u001b[0;34m-\u001b[0m\u001b[0;36m15\u001b[0m\u001b[0;34m:\u001b[0m\u001b[0;34m]\u001b[0m\u001b[0;34m[\u001b[0m\u001b[0;34m:\u001b[0m\u001b[0;34m:\u001b[0m\u001b[0;34m-\u001b[0m\u001b[0;36m1\u001b[0m\u001b[0;34m]\u001b[0m\u001b[0;34m\u001b[0m\u001b[0;34m\u001b[0m\u001b[0m\n\u001b[0m\u001b[1;32m      2\u001b[0m \u001b[0mprint\u001b[0m\u001b[0;34m(\u001b[0m\u001b[0;34m\"Best indices: \"\u001b[0m\u001b[0;34m)\u001b[0m\u001b[0;34m\u001b[0m\u001b[0;34m\u001b[0m\u001b[0m\n\u001b[1;32m      3\u001b[0m \u001b[0;32mfor\u001b[0m \u001b[0mi\u001b[0m \u001b[0;32min\u001b[0m \u001b[0mbest_ind\u001b[0m\u001b[0;34m:\u001b[0m\u001b[0;34m\u001b[0m\u001b[0;34m\u001b[0m\u001b[0m\n\u001b[1;32m      4\u001b[0m     \u001b[0mprint\u001b[0m\u001b[0;34m(\u001b[0m\u001b[0mpreds\u001b[0m\u001b[0;34m[\u001b[0m\u001b[0mi\u001b[0m\u001b[0;34m]\u001b[0m\u001b[0;34m)\u001b[0m\u001b[0;34m\u001b[0m\u001b[0;34m\u001b[0m\u001b[0m\n\u001b[1;32m      5\u001b[0m \u001b[0;34m\u001b[0m\u001b[0m\n",
      "\u001b[0;31mNameError\u001b[0m: name 'diff_test' is not defined"
     ]
    }
   ],
   "source": [
    "best_ind = np.array(diff_test).argsort()[-15:][::-1]\n",
    "print(\"Best indices: \")\n",
    "for i in best_ind:\n",
    "    print(preds[i])\n",
    "    \n",
    "worst_ind = np.array(diff_test).argsort()[:15]\n",
    "print(\"\\nWorst indices: \")\n",
    "for i in worst_ind:\n",
    "    print(preds[i])"
   ]
  },
  {
   "cell_type": "code",
   "execution_count": 212,
   "metadata": {},
   "outputs": [
    {
     "name": "stdout",
     "output_type": "stream",
     "text": [
      "Best indices: \n",
      "furry\n",
      "paws\n",
      "bulbous\n",
      "solitary\n",
      "bush\n",
      "fields\n",
      "blue\n",
      "ground\n",
      "hairless\n",
      "vegetation\n",
      "group\n",
      "toughskin\n",
      "oldworld\n",
      "plains\n",
      "forager\n",
      "\n",
      "Worst indices: \n",
      "newworld\n",
      "bipedal\n",
      "buckteeth\n",
      "black\n",
      "meat\n",
      "muscle\n",
      "stalker\n",
      "slow\n",
      "forest\n",
      "fish\n",
      "hibernate\n",
      "hunter\n",
      "tree\n",
      "meatteeth\n",
      "strainteeth\n"
     ]
    }
   ],
   "source": [
    "best_ind = np.array(diff_unseen).argsort()[-15:][::-1]\n",
    "print(\"Best indices: \")\n",
    "for i in best_ind:\n",
    "    print(preds[i])\n",
    "    \n",
    "worst_ind = np.array(diff_unseen).argsort()[:15]\n",
    "print(\"\\nWorst indices: \")\n",
    "for i in worst_ind:\n",
    "    print(preds[i])"
   ]
  },
  {
   "cell_type": "markdown",
   "metadata": {},
   "source": [
    "## TSNE Visualizations of features"
   ]
  },
  {
   "cell_type": "code",
   "execution_count": 19,
   "metadata": {},
   "outputs": [],
   "source": [
    "import numpy as np\n",
    "import pylab\n",
    "from tsne import * "
   ]
  },
  {
   "cell_type": "code",
   "execution_count": 20,
   "metadata": {},
   "outputs": [
    {
     "name": "stdout",
     "output_type": "stream",
     "text": [
      "Run Y = tsne.tsne(X, no_dims, perplexity) to perform t-SNE on your dataset.\n",
      "Preprocessing the data using PCA...\n",
      "Computing pairwise distances...\n",
      "Computing P-values for point 0 of 2000...\n"
     ]
    },
    {
     "name": "stderr",
     "output_type": "stream",
     "text": [
      "/export/home1/NoCsBack/hci/evin/Attribute_tests/GoodBadUgly-datasets/tsne.py:28: RuntimeWarning: divide by zero encountered in log\n",
      "  H = np.log(sumP) + beta * np.sum(D * P) / sumP\n",
      "/export/home1/NoCsBack/hci/evin/Attribute_tests/GoodBadUgly-datasets/tsne.py:28: RuntimeWarning: invalid value encountered in true_divide\n",
      "  H = np.log(sumP) + beta * np.sum(D * P) / sumP\n",
      "/export/home1/NoCsBack/hci/evin/Attribute_tests/GoodBadUgly-datasets/tsne.py:29: RuntimeWarning: invalid value encountered in true_divide\n",
      "  P = P / sumP\n"
     ]
    },
    {
     "name": "stdout",
     "output_type": "stream",
     "text": [
      "Computing P-values for point 500 of 2000...\n",
      "Computing P-values for point 1000 of 2000...\n",
      "Computing P-values for point 1500 of 2000...\n",
      "Mean value of sigma: 1.000000\n"
     ]
    },
    {
     "name": "stderr",
     "output_type": "stream",
     "text": [
      "/export/home1/NoCsBack/hci/evin/Attribute_tests/GoodBadUgly-datasets/tsne.py:163: RuntimeWarning: invalid value encountered in greater\n",
      "  gains = (gains + 0.2) * ((dY > 0.) != (iY > 0.)) + \\\n",
      "/export/home1/NoCsBack/hci/evin/Attribute_tests/GoodBadUgly-datasets/tsne.py:164: RuntimeWarning: invalid value encountered in greater\n",
      "  (gains * 0.8) * ((dY > 0.) == (iY > 0.))\n"
     ]
    },
    {
     "name": "stdout",
     "output_type": "stream",
     "text": [
      "Iteration 10: error is nan\n",
      "Iteration 20: error is nan\n",
      "Iteration 30: error is nan\n",
      "Iteration 40: error is nan\n",
      "Iteration 50: error is nan\n",
      "Iteration 60: error is nan\n",
      "Iteration 70: error is nan\n",
      "Iteration 80: error is nan\n",
      "Iteration 90: error is nan\n",
      "Iteration 100: error is nan\n",
      "Iteration 110: error is nan\n",
      "Iteration 120: error is nan\n",
      "Iteration 130: error is nan\n",
      "Iteration 140: error is nan\n",
      "Iteration 150: error is nan\n",
      "Iteration 160: error is nan\n",
      "Iteration 170: error is nan\n",
      "Iteration 180: error is nan\n",
      "Iteration 190: error is nan\n",
      "Iteration 200: error is nan\n",
      "Iteration 210: error is nan\n",
      "Iteration 220: error is nan\n",
      "Iteration 230: error is nan\n",
      "Iteration 240: error is nan\n",
      "Iteration 250: error is nan\n",
      "Iteration 260: error is nan\n",
      "Iteration 270: error is nan\n",
      "Iteration 280: error is nan\n",
      "Iteration 290: error is nan\n",
      "Iteration 300: error is nan\n",
      "Iteration 310: error is nan\n",
      "Iteration 320: error is nan\n",
      "Iteration 330: error is nan\n",
      "Iteration 340: error is nan\n",
      "Iteration 350: error is nan\n",
      "Iteration 360: error is nan\n",
      "Iteration 370: error is nan\n",
      "Iteration 380: error is nan\n",
      "Iteration 390: error is nan\n",
      "Iteration 400: error is nan\n",
      "Iteration 410: error is nan\n",
      "Iteration 420: error is nan\n",
      "Iteration 430: error is nan\n",
      "Iteration 440: error is nan\n",
      "Iteration 450: error is nan\n",
      "Iteration 460: error is nan\n",
      "Iteration 470: error is nan\n",
      "Iteration 480: error is nan\n",
      "Iteration 490: error is nan\n",
      "Iteration 500: error is nan\n",
      "Iteration 510: error is nan\n",
      "Iteration 520: error is nan\n",
      "Iteration 530: error is nan\n",
      "Iteration 540: error is nan\n",
      "Iteration 550: error is nan\n",
      "Iteration 560: error is nan\n",
      "Iteration 570: error is nan\n",
      "Iteration 580: error is nan\n",
      "Iteration 590: error is nan\n",
      "Iteration 600: error is nan\n",
      "Iteration 610: error is nan\n",
      "Iteration 620: error is nan\n",
      "Iteration 630: error is nan\n",
      "Iteration 640: error is nan\n",
      "Iteration 650: error is nan\n",
      "Iteration 660: error is nan\n",
      "Iteration 670: error is nan\n",
      "Iteration 680: error is nan\n",
      "Iteration 690: error is nan\n",
      "Iteration 700: error is nan\n",
      "Iteration 710: error is nan\n",
      "Iteration 720: error is nan\n",
      "Iteration 730: error is nan\n",
      "Iteration 740: error is nan\n",
      "Iteration 750: error is nan\n",
      "Iteration 760: error is nan\n",
      "Iteration 770: error is nan\n",
      "Iteration 780: error is nan\n",
      "Iteration 790: error is nan\n",
      "Iteration 800: error is nan\n",
      "Iteration 810: error is nan\n",
      "Iteration 820: error is nan\n",
      "Iteration 830: error is nan\n",
      "Iteration 840: error is nan\n",
      "Iteration 850: error is nan\n",
      "Iteration 860: error is nan\n",
      "Iteration 870: error is nan\n",
      "Iteration 880: error is nan\n",
      "Iteration 890: error is nan\n",
      "Iteration 900: error is nan\n",
      "Iteration 910: error is nan\n",
      "Iteration 920: error is nan\n",
      "Iteration 930: error is nan\n",
      "Iteration 940: error is nan\n",
      "Iteration 950: error is nan\n",
      "Iteration 960: error is nan\n",
      "Iteration 970: error is nan\n",
      "Iteration 980: error is nan\n",
      "Iteration 990: error is nan\n",
      "Iteration 1000: error is nan\n"
     ]
    },
    {
     "ename": "ValueError",
     "evalue": "'c' argument has 2000 elements, which is not acceptable for use with 'x' with size 2000, 'y' with size 2000.",
     "output_type": "error",
     "traceback": [
      "\u001b[0;31m---------------------------------------------------------------------------\u001b[0m",
      "\u001b[0;31mTypeError\u001b[0m                                 Traceback (most recent call last)",
      "\u001b[0;32m~/miniconda3/lib/python3.7/site-packages/matplotlib/colors.py\u001b[0m in \u001b[0;36mto_rgba\u001b[0;34m(c, alpha)\u001b[0m\n\u001b[1;32m    173\u001b[0m     \u001b[0;32mtry\u001b[0m\u001b[0;34m:\u001b[0m\u001b[0;34m\u001b[0m\u001b[0;34m\u001b[0m\u001b[0m\n\u001b[0;32m--> 174\u001b[0;31m         \u001b[0mrgba\u001b[0m \u001b[0;34m=\u001b[0m \u001b[0m_colors_full_map\u001b[0m\u001b[0;34m.\u001b[0m\u001b[0mcache\u001b[0m\u001b[0;34m[\u001b[0m\u001b[0mc\u001b[0m\u001b[0;34m,\u001b[0m \u001b[0malpha\u001b[0m\u001b[0;34m]\u001b[0m\u001b[0;34m\u001b[0m\u001b[0;34m\u001b[0m\u001b[0m\n\u001b[0m\u001b[1;32m    175\u001b[0m     \u001b[0;32mexcept\u001b[0m \u001b[0;34m(\u001b[0m\u001b[0mKeyError\u001b[0m\u001b[0;34m,\u001b[0m \u001b[0mTypeError\u001b[0m\u001b[0;34m)\u001b[0m\u001b[0;34m:\u001b[0m  \u001b[0;31m# Not in cache, or unhashable.\u001b[0m\u001b[0;34m\u001b[0m\u001b[0;34m\u001b[0m\u001b[0m\n",
      "\u001b[0;31mTypeError\u001b[0m: unhashable type: 'numpy.ndarray'",
      "\nDuring handling of the above exception, another exception occurred:\n",
      "\u001b[0;31mValueError\u001b[0m                                Traceback (most recent call last)",
      "\u001b[0;32m~/miniconda3/lib/python3.7/site-packages/matplotlib/axes/_axes.py\u001b[0m in \u001b[0;36mscatter\u001b[0;34m(self, x, y, s, c, marker, cmap, norm, vmin, vmax, alpha, linewidths, verts, edgecolors, **kwargs)\u001b[0m\n\u001b[1;32m   4231\u001b[0m             \u001b[0;32mtry\u001b[0m\u001b[0;34m:\u001b[0m  \u001b[0;31m# Then is 'c' acceptable as PathCollection facecolors?\u001b[0m\u001b[0;34m\u001b[0m\u001b[0;34m\u001b[0m\u001b[0m\n\u001b[0;32m-> 4232\u001b[0;31m                 \u001b[0mcolors\u001b[0m \u001b[0;34m=\u001b[0m \u001b[0mmcolors\u001b[0m\u001b[0;34m.\u001b[0m\u001b[0mto_rgba_array\u001b[0m\u001b[0;34m(\u001b[0m\u001b[0mc\u001b[0m\u001b[0;34m)\u001b[0m\u001b[0;34m\u001b[0m\u001b[0;34m\u001b[0m\u001b[0m\n\u001b[0m\u001b[1;32m   4233\u001b[0m                 \u001b[0mn_elem\u001b[0m \u001b[0;34m=\u001b[0m \u001b[0mcolors\u001b[0m\u001b[0;34m.\u001b[0m\u001b[0mshape\u001b[0m\u001b[0;34m[\u001b[0m\u001b[0;36m0\u001b[0m\u001b[0;34m]\u001b[0m\u001b[0;34m\u001b[0m\u001b[0;34m\u001b[0m\u001b[0m\n",
      "\u001b[0;32m~/miniconda3/lib/python3.7/site-packages/matplotlib/colors.py\u001b[0m in \u001b[0;36mto_rgba_array\u001b[0;34m(c, alpha)\u001b[0m\n\u001b[1;32m    274\u001b[0m     \u001b[0;32mfor\u001b[0m \u001b[0mi\u001b[0m\u001b[0;34m,\u001b[0m \u001b[0mcc\u001b[0m \u001b[0;32min\u001b[0m \u001b[0menumerate\u001b[0m\u001b[0;34m(\u001b[0m\u001b[0mc\u001b[0m\u001b[0;34m)\u001b[0m\u001b[0;34m:\u001b[0m\u001b[0;34m\u001b[0m\u001b[0;34m\u001b[0m\u001b[0m\n\u001b[0;32m--> 275\u001b[0;31m         \u001b[0mresult\u001b[0m\u001b[0;34m[\u001b[0m\u001b[0mi\u001b[0m\u001b[0;34m]\u001b[0m \u001b[0;34m=\u001b[0m \u001b[0mto_rgba\u001b[0m\u001b[0;34m(\u001b[0m\u001b[0mcc\u001b[0m\u001b[0;34m,\u001b[0m \u001b[0malpha\u001b[0m\u001b[0;34m)\u001b[0m\u001b[0;34m\u001b[0m\u001b[0;34m\u001b[0m\u001b[0m\n\u001b[0m\u001b[1;32m    276\u001b[0m     \u001b[0;32mreturn\u001b[0m \u001b[0mresult\u001b[0m\u001b[0;34m\u001b[0m\u001b[0;34m\u001b[0m\u001b[0m\n",
      "\u001b[0;32m~/miniconda3/lib/python3.7/site-packages/matplotlib/colors.py\u001b[0m in \u001b[0;36mto_rgba\u001b[0;34m(c, alpha)\u001b[0m\n\u001b[1;32m    175\u001b[0m     \u001b[0;32mexcept\u001b[0m \u001b[0;34m(\u001b[0m\u001b[0mKeyError\u001b[0m\u001b[0;34m,\u001b[0m \u001b[0mTypeError\u001b[0m\u001b[0;34m)\u001b[0m\u001b[0;34m:\u001b[0m  \u001b[0;31m# Not in cache, or unhashable.\u001b[0m\u001b[0;34m\u001b[0m\u001b[0;34m\u001b[0m\u001b[0m\n\u001b[0;32m--> 176\u001b[0;31m         \u001b[0mrgba\u001b[0m \u001b[0;34m=\u001b[0m \u001b[0m_to_rgba_no_colorcycle\u001b[0m\u001b[0;34m(\u001b[0m\u001b[0mc\u001b[0m\u001b[0;34m,\u001b[0m \u001b[0malpha\u001b[0m\u001b[0;34m)\u001b[0m\u001b[0;34m\u001b[0m\u001b[0;34m\u001b[0m\u001b[0m\n\u001b[0m\u001b[1;32m    177\u001b[0m         \u001b[0;32mtry\u001b[0m\u001b[0;34m:\u001b[0m\u001b[0;34m\u001b[0m\u001b[0;34m\u001b[0m\u001b[0m\n",
      "\u001b[0;32m~/miniconda3/lib/python3.7/site-packages/matplotlib/colors.py\u001b[0m in \u001b[0;36m_to_rgba_no_colorcycle\u001b[0;34m(c, alpha)\u001b[0m\n\u001b[1;32m    230\u001b[0m     \u001b[0;32mif\u001b[0m \u001b[0mlen\u001b[0m\u001b[0;34m(\u001b[0m\u001b[0mc\u001b[0m\u001b[0;34m)\u001b[0m \u001b[0;32mnot\u001b[0m \u001b[0;32min\u001b[0m \u001b[0;34m[\u001b[0m\u001b[0;36m3\u001b[0m\u001b[0;34m,\u001b[0m \u001b[0;36m4\u001b[0m\u001b[0;34m]\u001b[0m\u001b[0;34m:\u001b[0m\u001b[0;34m\u001b[0m\u001b[0;34m\u001b[0m\u001b[0m\n\u001b[0;32m--> 231\u001b[0;31m         \u001b[0;32mraise\u001b[0m \u001b[0mValueError\u001b[0m\u001b[0;34m(\u001b[0m\u001b[0;34m\"RGBA sequence should have length 3 or 4\"\u001b[0m\u001b[0;34m)\u001b[0m\u001b[0;34m\u001b[0m\u001b[0;34m\u001b[0m\u001b[0m\n\u001b[0m\u001b[1;32m    232\u001b[0m     \u001b[0;32mif\u001b[0m \u001b[0mlen\u001b[0m\u001b[0;34m(\u001b[0m\u001b[0mc\u001b[0m\u001b[0;34m)\u001b[0m \u001b[0;34m==\u001b[0m \u001b[0;36m3\u001b[0m \u001b[0;32mand\u001b[0m \u001b[0malpha\u001b[0m \u001b[0;32mis\u001b[0m \u001b[0;32mNone\u001b[0m\u001b[0;34m:\u001b[0m\u001b[0;34m\u001b[0m\u001b[0;34m\u001b[0m\u001b[0m\n",
      "\u001b[0;31mValueError\u001b[0m: RGBA sequence should have length 3 or 4",
      "\nDuring handling of the above exception, another exception occurred:\n",
      "\u001b[0;31mValueError\u001b[0m                                Traceback (most recent call last)",
      "\u001b[0;32m<ipython-input-20-883564998e7f>\u001b[0m in \u001b[0;36m<module>\u001b[0;34m\u001b[0m\n\u001b[1;32m      4\u001b[0m \u001b[0mlabels\u001b[0m \u001b[0;34m=\u001b[0m \u001b[0mtrain_labels\u001b[0m\u001b[0;34m[\u001b[0m\u001b[0;34m:\u001b[0m\u001b[0;36m2000\u001b[0m\u001b[0;34m]\u001b[0m\u001b[0;34m\u001b[0m\u001b[0;34m\u001b[0m\u001b[0m\n\u001b[1;32m      5\u001b[0m \u001b[0mY\u001b[0m \u001b[0;34m=\u001b[0m \u001b[0mtsne\u001b[0m\u001b[0;34m(\u001b[0m\u001b[0mX\u001b[0m\u001b[0;34m,\u001b[0m \u001b[0;36m2\u001b[0m\u001b[0;34m,\u001b[0m \u001b[0;36m2048\u001b[0m\u001b[0;34m,\u001b[0m \u001b[0;36m20.0\u001b[0m\u001b[0;34m)\u001b[0m\u001b[0;34m\u001b[0m\u001b[0;34m\u001b[0m\u001b[0m\n\u001b[0;32m----> 6\u001b[0;31m \u001b[0mpylab\u001b[0m\u001b[0;34m.\u001b[0m\u001b[0mscatter\u001b[0m\u001b[0;34m(\u001b[0m\u001b[0mY\u001b[0m\u001b[0;34m[\u001b[0m\u001b[0;34m:\u001b[0m\u001b[0;34m,\u001b[0m \u001b[0;36m0\u001b[0m\u001b[0;34m]\u001b[0m\u001b[0;34m,\u001b[0m \u001b[0mY\u001b[0m\u001b[0;34m[\u001b[0m\u001b[0;34m:\u001b[0m\u001b[0;34m,\u001b[0m \u001b[0;36m1\u001b[0m\u001b[0;34m]\u001b[0m\u001b[0;34m,\u001b[0m \u001b[0;36m20\u001b[0m\u001b[0;34m,\u001b[0m \u001b[0mlabels\u001b[0m\u001b[0;34m)\u001b[0m\u001b[0;34m\u001b[0m\u001b[0;34m\u001b[0m\u001b[0m\n\u001b[0m\u001b[1;32m      7\u001b[0m \u001b[0mpylab\u001b[0m\u001b[0;34m.\u001b[0m\u001b[0mshow\u001b[0m\u001b[0;34m(\u001b[0m\u001b[0;34m)\u001b[0m\u001b[0;34m\u001b[0m\u001b[0;34m\u001b[0m\u001b[0m\n",
      "\u001b[0;32m~/miniconda3/lib/python3.7/site-packages/matplotlib/pyplot.py\u001b[0m in \u001b[0;36mscatter\u001b[0;34m(x, y, s, c, marker, cmap, norm, vmin, vmax, alpha, linewidths, verts, edgecolors, data, **kwargs)\u001b[0m\n\u001b[1;32m   2860\u001b[0m         \u001b[0mvmin\u001b[0m\u001b[0;34m=\u001b[0m\u001b[0mvmin\u001b[0m\u001b[0;34m,\u001b[0m \u001b[0mvmax\u001b[0m\u001b[0;34m=\u001b[0m\u001b[0mvmax\u001b[0m\u001b[0;34m,\u001b[0m \u001b[0malpha\u001b[0m\u001b[0;34m=\u001b[0m\u001b[0malpha\u001b[0m\u001b[0;34m,\u001b[0m \u001b[0mlinewidths\u001b[0m\u001b[0;34m=\u001b[0m\u001b[0mlinewidths\u001b[0m\u001b[0;34m,\u001b[0m\u001b[0;34m\u001b[0m\u001b[0;34m\u001b[0m\u001b[0m\n\u001b[1;32m   2861\u001b[0m         verts=verts, edgecolors=edgecolors, **({\"data\": data} if data\n\u001b[0;32m-> 2862\u001b[0;31m         is not None else {}), **kwargs)\n\u001b[0m\u001b[1;32m   2863\u001b[0m     \u001b[0msci\u001b[0m\u001b[0;34m(\u001b[0m\u001b[0m__ret\u001b[0m\u001b[0;34m)\u001b[0m\u001b[0;34m\u001b[0m\u001b[0;34m\u001b[0m\u001b[0m\n\u001b[1;32m   2864\u001b[0m     \u001b[0;32mreturn\u001b[0m \u001b[0m__ret\u001b[0m\u001b[0;34m\u001b[0m\u001b[0;34m\u001b[0m\u001b[0m\n",
      "\u001b[0;32m~/miniconda3/lib/python3.7/site-packages/matplotlib/__init__.py\u001b[0m in \u001b[0;36minner\u001b[0;34m(ax, data, *args, **kwargs)\u001b[0m\n\u001b[1;32m   1808\u001b[0m                         \u001b[0;34m\"the Matplotlib list!)\"\u001b[0m \u001b[0;34m%\u001b[0m \u001b[0;34m(\u001b[0m\u001b[0mlabel_namer\u001b[0m\u001b[0;34m,\u001b[0m \u001b[0mfunc\u001b[0m\u001b[0;34m.\u001b[0m\u001b[0m__name__\u001b[0m\u001b[0;34m)\u001b[0m\u001b[0;34m,\u001b[0m\u001b[0;34m\u001b[0m\u001b[0;34m\u001b[0m\u001b[0m\n\u001b[1;32m   1809\u001b[0m                         RuntimeWarning, stacklevel=2)\n\u001b[0;32m-> 1810\u001b[0;31m             \u001b[0;32mreturn\u001b[0m \u001b[0mfunc\u001b[0m\u001b[0;34m(\u001b[0m\u001b[0max\u001b[0m\u001b[0;34m,\u001b[0m \u001b[0;34m*\u001b[0m\u001b[0margs\u001b[0m\u001b[0;34m,\u001b[0m \u001b[0;34m**\u001b[0m\u001b[0mkwargs\u001b[0m\u001b[0;34m)\u001b[0m\u001b[0;34m\u001b[0m\u001b[0;34m\u001b[0m\u001b[0m\n\u001b[0m\u001b[1;32m   1811\u001b[0m \u001b[0;34m\u001b[0m\u001b[0m\n\u001b[1;32m   1812\u001b[0m         inner.__doc__ = _add_data_doc(inner.__doc__,\n",
      "\u001b[0;32m~/miniconda3/lib/python3.7/site-packages/matplotlib/axes/_axes.py\u001b[0m in \u001b[0;36mscatter\u001b[0;34m(self, x, y, s, c, marker, cmap, norm, vmin, vmax, alpha, linewidths, verts, edgecolors, **kwargs)\u001b[0m\n\u001b[1;32m   4243\u001b[0m                         \u001b[0;34m\"acceptable for use with 'x' with size {xs}, \"\u001b[0m\u001b[0;34m\u001b[0m\u001b[0;34m\u001b[0m\u001b[0m\n\u001b[1;32m   4244\u001b[0m                         \u001b[0;34m\"'y' with size {ys}.\"\u001b[0m\u001b[0;34m\u001b[0m\u001b[0;34m\u001b[0m\u001b[0m\n\u001b[0;32m-> 4245\u001b[0;31m                         \u001b[0;34m.\u001b[0m\u001b[0mformat\u001b[0m\u001b[0;34m(\u001b[0m\u001b[0mnc\u001b[0m\u001b[0;34m=\u001b[0m\u001b[0mn_elem\u001b[0m\u001b[0;34m,\u001b[0m \u001b[0mxs\u001b[0m\u001b[0;34m=\u001b[0m\u001b[0mx\u001b[0m\u001b[0;34m.\u001b[0m\u001b[0msize\u001b[0m\u001b[0;34m,\u001b[0m \u001b[0mys\u001b[0m\u001b[0;34m=\u001b[0m\u001b[0my\u001b[0m\u001b[0;34m.\u001b[0m\u001b[0msize\u001b[0m\u001b[0;34m)\u001b[0m\u001b[0;34m\u001b[0m\u001b[0;34m\u001b[0m\u001b[0m\n\u001b[0m\u001b[1;32m   4246\u001b[0m                     )\n\u001b[1;32m   4247\u001b[0m                 \u001b[0;31m# Both the mapping *and* the RGBA conversion failed: pretty\u001b[0m\u001b[0;34m\u001b[0m\u001b[0;34m\u001b[0m\u001b[0;34m\u001b[0m\u001b[0m\n",
      "\u001b[0;31mValueError\u001b[0m: 'c' argument has 2000 elements, which is not acceptable for use with 'x' with size 2000, 'y' with size 2000."
     ]
    },
    {
     "data": {
      "image/png": "[encoded data removed]",
      "text/plain": [
       "<Figure size 432x288 with 1 Axes>"
      ]
     },
     "metadata": {
      "needs_background": "light"
     },
     "output_type": "display_data"
    }
   ],
   "source": [
    "print(\"Run Y = tsne.tsne(X, no_dims, perplexity) to perform t-SNE on your dataset.\")\n",
    "\n",
    "X = train_feats[:2000]\n",
    "labels = train_labels[:2000]\n",
    "Y = tsne(X, 2, 2048, 20.0)\n",
    "pylab.scatter(Y[:, 0], Y[:, 1], 20, labels)\n",
    "pylab.show()"
   ]
  },
  {
   "cell_type": "code",
   "execution_count": null,
   "metadata": {},
   "outputs": [],
   "source": [
    "hey"
   ]
  },
  {
   "cell_type": "code",
   "execution_count": null,
   "metadata": {},
   "outputs": [],
   "source": []
  }
 ],
 "metadata": {
  "kernelspec": {
   "display_name": "Python 3",
   "language": "python",
   "name": "python3"
  },
  "language_info": {
   "codemirror_mode": {
    "name": "ipython",
    "version": 3
   },
   "file_extension": ".py",
   "mimetype": "text/x-python",
   "name": "python",
   "nbconvert_exporter": "python",
   "pygments_lexer": "ipython3",
   "version": "3.7.2"
  }
 },
 "nbformat": 4,
 "nbformat_minor": 2
}
